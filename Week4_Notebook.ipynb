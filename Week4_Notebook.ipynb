{
 "cells": [
  {
   "cell_type": "markdown",
   "id": "531a562b-53db-40f4-9f86-ea9c3322b02c",
   "metadata": {},
   "source": [
    "# Week 4 Mini Project: RNN Disaster Tweets Classification\n",
    "\n",
    "By: Jaeyoung Oh\n",
    "\n",
    "Repo: https://github.com/BlueJayVRStudio/CSCA5642_Week4"
   ]
  },
  {
   "cell_type": "markdown",
   "id": "0f81b4f0-7ddd-4e57-b781-317960e08ec3",
   "metadata": {},
   "source": [
    "## Problem Statement\n",
    "\n",
    "The objective of this week's mini project is to classify the context of Tweets. It is a simple binary classification between whether it is about real disasters or not. The set of data consists of a training set and a test set. The test set is reserved only for submission and not validation. The training set consists of 7613 hand-classified data points each composed of ID, keyword, location, body of text and target label. We will first explore keyword, location and text body to identify potential input columns and then perform necessary preprocessing steps on the selected input."
   ]
  },
  {
   "cell_type": "markdown",
   "id": "3517d23e-bc9e-455e-a8da-b694960a3483",
   "metadata": {},
   "source": [
    "## EDA"
   ]
  },
  {
   "cell_type": "code",
   "execution_count": 1,
   "id": "1283bb00-d948-4f9c-9810-72f602ab8086",
   "metadata": {},
   "outputs": [],
   "source": [
    "import numpy as np\n",
    "import pandas as pd\n",
    "import matplotlib.pyplot as plt\n",
    "\n",
    "train_df = pd.read_csv('./data/train.csv')\n",
    "test_df = pd.read_csv('./data/test.csv')"
   ]
  },
  {
   "cell_type": "code",
   "execution_count": 2,
   "id": "4f8da857-84d7-4ea4-a817-033a56c17635",
   "metadata": {},
   "outputs": [
    {
     "name": "stdout",
     "output_type": "stream",
     "text": [
      "<class 'pandas.core.frame.DataFrame'>\n",
      "RangeIndex: 7613 entries, 0 to 7612\n",
      "Data columns (total 5 columns):\n",
      " #   Column    Non-Null Count  Dtype \n",
      "---  ------    --------------  ----- \n",
      " 0   id        7613 non-null   int64 \n",
      " 1   keyword   7552 non-null   object\n",
      " 2   location  5080 non-null   object\n",
      " 3   text      7613 non-null   object\n",
      " 4   target    7613 non-null   int64 \n",
      "dtypes: int64(2), object(3)\n",
      "memory usage: 297.5+ KB\n"
     ]
    }
   ],
   "source": [
    "train_df.info()"
   ]
  },
  {
   "cell_type": "code",
   "execution_count": 3,
   "id": "9c9658cd-bcc9-4acd-a8e6-93c9054b9288",
   "metadata": {},
   "outputs": [
    {
     "name": "stdout",
     "output_type": "stream",
     "text": [
      "<class 'pandas.core.frame.DataFrame'>\n",
      "RangeIndex: 3263 entries, 0 to 3262\n",
      "Data columns (total 4 columns):\n",
      " #   Column    Non-Null Count  Dtype \n",
      "---  ------    --------------  ----- \n",
      " 0   id        3263 non-null   int64 \n",
      " 1   keyword   3237 non-null   object\n",
      " 2   location  2158 non-null   object\n",
      " 3   text      3263 non-null   object\n",
      "dtypes: int64(1), object(3)\n",
      "memory usage: 102.1+ KB\n"
     ]
    }
   ],
   "source": [
    "test_df.info()"
   ]
  },
  {
   "cell_type": "code",
   "execution_count": 4,
   "id": "859a7281-8989-4e0c-9d65-c136dfaedc16",
   "metadata": {},
   "outputs": [
    {
     "data": {
      "text/html": [
       "<div>\n",
       "<style scoped>\n",
       "    .dataframe tbody tr th:only-of-type {\n",
       "        vertical-align: middle;\n",
       "    }\n",
       "\n",
       "    .dataframe tbody tr th {\n",
       "        vertical-align: top;\n",
       "    }\n",
       "\n",
       "    .dataframe thead th {\n",
       "        text-align: right;\n",
       "    }\n",
       "</style>\n",
       "<table border=\"1\" class=\"dataframe\">\n",
       "  <thead>\n",
       "    <tr style=\"text-align: right;\">\n",
       "      <th></th>\n",
       "      <th>id</th>\n",
       "      <th>keyword</th>\n",
       "      <th>location</th>\n",
       "      <th>text</th>\n",
       "      <th>target</th>\n",
       "    </tr>\n",
       "  </thead>\n",
       "  <tbody>\n",
       "    <tr>\n",
       "      <th>0</th>\n",
       "      <td>1</td>\n",
       "      <td>NaN</td>\n",
       "      <td>NaN</td>\n",
       "      <td>Our Deeds are the Reason of this #earthquake M...</td>\n",
       "      <td>1</td>\n",
       "    </tr>\n",
       "    <tr>\n",
       "      <th>1</th>\n",
       "      <td>4</td>\n",
       "      <td>NaN</td>\n",
       "      <td>NaN</td>\n",
       "      <td>Forest fire near La Ronge Sask. Canada</td>\n",
       "      <td>1</td>\n",
       "    </tr>\n",
       "    <tr>\n",
       "      <th>2</th>\n",
       "      <td>5</td>\n",
       "      <td>NaN</td>\n",
       "      <td>NaN</td>\n",
       "      <td>All residents asked to 'shelter in place' are ...</td>\n",
       "      <td>1</td>\n",
       "    </tr>\n",
       "    <tr>\n",
       "      <th>3</th>\n",
       "      <td>6</td>\n",
       "      <td>NaN</td>\n",
       "      <td>NaN</td>\n",
       "      <td>13,000 people receive #wildfires evacuation or...</td>\n",
       "      <td>1</td>\n",
       "    </tr>\n",
       "    <tr>\n",
       "      <th>4</th>\n",
       "      <td>7</td>\n",
       "      <td>NaN</td>\n",
       "      <td>NaN</td>\n",
       "      <td>Just got sent this photo from Ruby #Alaska as ...</td>\n",
       "      <td>1</td>\n",
       "    </tr>\n",
       "  </tbody>\n",
       "</table>\n",
       "</div>"
      ],
      "text/plain": [
       "   id keyword location                                               text  \\\n",
       "0   1     NaN      NaN  Our Deeds are the Reason of this #earthquake M...   \n",
       "1   4     NaN      NaN             Forest fire near La Ronge Sask. Canada   \n",
       "2   5     NaN      NaN  All residents asked to 'shelter in place' are ...   \n",
       "3   6     NaN      NaN  13,000 people receive #wildfires evacuation or...   \n",
       "4   7     NaN      NaN  Just got sent this photo from Ruby #Alaska as ...   \n",
       "\n",
       "   target  \n",
       "0       1  \n",
       "1       1  \n",
       "2       1  \n",
       "3       1  \n",
       "4       1  "
      ]
     },
     "execution_count": 4,
     "metadata": {},
     "output_type": "execute_result"
    }
   ],
   "source": [
    "train_df.head()"
   ]
  },
  {
   "cell_type": "markdown",
   "id": "44b0aa6b-992a-4a2a-b7dc-f7b270d1104e",
   "metadata": {},
   "source": [
    "ID has no special meaning, so we can easily drop ID from the dataset. Additionally, there are too many null values in keyword and location. Keyword is selected word from the text so it is redudant information. Although location might provide some special context, there are too many null values and does not contain too much meaning. Therefore, we really only need to consider the text bodies as our input column. "
   ]
  },
  {
   "cell_type": "markdown",
   "id": "20cb460b-c0fa-4017-ada8-ca58b24094a6",
   "metadata": {},
   "source": [
    "Now we will do some basic NLP preprocessing. *Here are some considerations*:\n",
    "1. Most NLP tasks favor removing stop words and porter stemming, but for complex context dependent tasks like identifying real disaster in a tweet, preservation of stop words and suffixes may be quintessential especially taking into account the fact that RNN's can discern sequential/temporal patterns.\n",
    "2. Because RNN learns sequential information, we have to use word tokens as opposed to vectors. We may also use a pretrained word embedding such as Word2Vec.\n",
    "3. URL's don't provide enough contextual clues and unnecessarily increase complexity. Thus, we can easily decide to remove URL's.\n",
    "4. For similar reason to removing URL's we can convert all texts to lowercase."
   ]
  },
  {
   "cell_type": "code",
   "execution_count": 5,
   "id": "7b97bf2e-134d-4c15-ae0c-978890dfe6cc",
   "metadata": {},
   "outputs": [],
   "source": [
    "import re\n",
    "\n",
    "def clean_text(text):\n",
    "    # remove url's (http, https, www)\n",
    "    text = re.sub(r'http\\S+|www\\S+|https\\S+', '', text, flags=re.MULTILINE)\n",
    "    # convert to lowercase\n",
    "    text = text.lower()\n",
    "    return text\n",
    "\n",
    "# for extra testing, we can try removing stopwords and suffixes as well\n",
    "from nltk.corpus import stopwords\n",
    "from nltk.stem import PorterStemmer\n",
    "\n",
    "stop_words = set(stopwords.words('english'))\n",
    "stemmer = PorterStemmer()\n",
    "\n",
    "def clean_text_V1(text):\n",
    "    text = re.sub(r'http\\S+|www\\S+|https\\S+', '', text, flags=re.MULTILINE)\n",
    "    text = text.lower()\n",
    "    \n",
    "    words = text.split()\n",
    "    words = [stemmer.stem(word) for word in words if word not in stop_words]\n",
    "    return ' '.join(words)\n",
    "    "
   ]
  },
  {
   "cell_type": "code",
   "execution_count": 6,
   "id": "fed09659-e34a-4088-9db2-d393d3af03e5",
   "metadata": {},
   "outputs": [],
   "source": [
    "train_df['text'] = train_df['text'].apply(clean_text)\n",
    "test_df['text'] = test_df['text'].apply(clean_text)"
   ]
  },
  {
   "cell_type": "code",
   "execution_count": 7,
   "id": "aca14000-7044-4220-a093-fec917db3f94",
   "metadata": {},
   "outputs": [
    {
     "data": {
      "text/html": [
       "<div>\n",
       "<style scoped>\n",
       "    .dataframe tbody tr th:only-of-type {\n",
       "        vertical-align: middle;\n",
       "    }\n",
       "\n",
       "    .dataframe tbody tr th {\n",
       "        vertical-align: top;\n",
       "    }\n",
       "\n",
       "    .dataframe thead th {\n",
       "        text-align: right;\n",
       "    }\n",
       "</style>\n",
       "<table border=\"1\" class=\"dataframe\">\n",
       "  <thead>\n",
       "    <tr style=\"text-align: right;\">\n",
       "      <th></th>\n",
       "      <th>id</th>\n",
       "      <th>keyword</th>\n",
       "      <th>location</th>\n",
       "      <th>text</th>\n",
       "      <th>target</th>\n",
       "    </tr>\n",
       "  </thead>\n",
       "  <tbody>\n",
       "    <tr>\n",
       "      <th>0</th>\n",
       "      <td>1</td>\n",
       "      <td>NaN</td>\n",
       "      <td>NaN</td>\n",
       "      <td>our deeds are the reason of this #earthquake m...</td>\n",
       "      <td>1</td>\n",
       "    </tr>\n",
       "    <tr>\n",
       "      <th>1</th>\n",
       "      <td>4</td>\n",
       "      <td>NaN</td>\n",
       "      <td>NaN</td>\n",
       "      <td>forest fire near la ronge sask. canada</td>\n",
       "      <td>1</td>\n",
       "    </tr>\n",
       "    <tr>\n",
       "      <th>2</th>\n",
       "      <td>5</td>\n",
       "      <td>NaN</td>\n",
       "      <td>NaN</td>\n",
       "      <td>all residents asked to 'shelter in place' are ...</td>\n",
       "      <td>1</td>\n",
       "    </tr>\n",
       "    <tr>\n",
       "      <th>3</th>\n",
       "      <td>6</td>\n",
       "      <td>NaN</td>\n",
       "      <td>NaN</td>\n",
       "      <td>13,000 people receive #wildfires evacuation or...</td>\n",
       "      <td>1</td>\n",
       "    </tr>\n",
       "    <tr>\n",
       "      <th>4</th>\n",
       "      <td>7</td>\n",
       "      <td>NaN</td>\n",
       "      <td>NaN</td>\n",
       "      <td>just got sent this photo from ruby #alaska as ...</td>\n",
       "      <td>1</td>\n",
       "    </tr>\n",
       "  </tbody>\n",
       "</table>\n",
       "</div>"
      ],
      "text/plain": [
       "   id keyword location                                               text  \\\n",
       "0   1     NaN      NaN  our deeds are the reason of this #earthquake m...   \n",
       "1   4     NaN      NaN             forest fire near la ronge sask. canada   \n",
       "2   5     NaN      NaN  all residents asked to 'shelter in place' are ...   \n",
       "3   6     NaN      NaN  13,000 people receive #wildfires evacuation or...   \n",
       "4   7     NaN      NaN  just got sent this photo from ruby #alaska as ...   \n",
       "\n",
       "   target  \n",
       "0       1  \n",
       "1       1  \n",
       "2       1  \n",
       "3       1  \n",
       "4       1  "
      ]
     },
     "execution_count": 7,
     "metadata": {},
     "output_type": "execute_result"
    }
   ],
   "source": [
    "train_df.head()"
   ]
  },
  {
   "cell_type": "markdown",
   "id": "a55e43da-a059-47a8-9a11-179998c8bb42",
   "metadata": {},
   "source": [
    "Next we look at class distribution to make sure there isn't too much class imbalance:"
   ]
  },
  {
   "cell_type": "code",
   "execution_count": 110,
   "id": "278879ab-b890-4bbc-a36f-019d098d750f",
   "metadata": {},
   "outputs": [
    {
     "data": {
      "image/png": "[encoded data removed]",
      "text/plain": [
       "<Figure size 1000x700 with 1 Axes>"
      ]
     },
     "metadata": {},
     "output_type": "display_data"
    }
   ],
   "source": [
    "def plot_class_distribution(labels):\n",
    "    class_counts = labels.value_counts()\n",
    "    \n",
    "    plt.figure(figsize=(10, 7))\n",
    "    class_counts.plot(kind='bar')\n",
    "    plt.title('Class Distribution')\n",
    "    plt.xlabel('Class')\n",
    "    plt.ylabel('Count')\n",
    "    plt.xticks(rotation=0)\n",
    "    plt.show()\n",
    "\n",
    "plot_class_distribution(train_df['target'])"
   ]
  },
  {
   "cell_type": "markdown",
   "id": "4dec5c7a-f66a-4a7d-a215-6ae060ccc7b1",
   "metadata": {},
   "source": [
    "## Model Building"
   ]
  },
  {
   "cell_type": "code",
   "execution_count": 60,
   "id": "5807ff31-1910-4d9a-a362-733f912457eb",
   "metadata": {},
   "outputs": [],
   "source": [
    "import os\n",
    "os.environ['TF_USE_LEGACY_KERAS'] = '1'\n",
    "os.environ['TF_CPP_MIN_LOG_LEVEL'] = '3'\n",
    "os.environ['PYTHONWARNINGS']='ignore'\n",
    "import warnings\n",
    "warnings.filterwarnings(\"ignore\")"
   ]
  },
  {
   "cell_type": "code",
   "execution_count": 61,
   "id": "d34aed23-e0ca-47b0-8b99-59fe1d00cec2",
   "metadata": {},
   "outputs": [
    {
     "name": "stdout",
     "output_type": "stream",
     "text": [
      "Num GPUs Available: 1\n"
     ]
    }
   ],
   "source": [
    "import tensorflow as tf\n",
    "print(\"Num GPUs Available:\", len(tf.config.list_physical_devices('GPU')))\n",
    "\n",
    "from tensorflow.keras.preprocessing.text import Tokenizer\n",
    "from tensorflow.keras.preprocessing.sequence import pad_sequences\n",
    "from tensorflow.keras.models import Sequential\n",
    "from tensorflow.keras.layers import Embedding, LSTM, GRU, Dense, Dropout, Input\n",
    "from tensorflow.keras.callbacks import EarlyStopping\n",
    "from sklearn.metrics import classification_report\n",
    "from gensim.models import KeyedVectors"
   ]
  },
  {
   "cell_type": "code",
   "execution_count": 62,
   "id": "58b8b2b0-a27f-427c-a8ac-c2edd7a2f07a",
   "metadata": {},
   "outputs": [],
   "source": [
    "word2vec = KeyedVectors.load_word2vec_format('./embeddings/GoogleNews-vectors-negative300.bin', binary=True)"
   ]
  },
  {
   "cell_type": "code",
   "execution_count": 63,
   "id": "57e51bc1-a852-409a-b585-a82d7b37dfa8",
   "metadata": {},
   "outputs": [],
   "source": [
    "# maximum number of words in a text\n",
    "max_sequence_length = 50  \n",
    "tokenizer = Tokenizer()\n",
    "tokenizer.fit_on_texts(train_df['text'])\n",
    "word_index = tokenizer.word_index\n",
    "\n",
    "sequences_train = tokenizer.texts_to_sequences(train_df['text'])\n",
    "padded_sequences_train = pad_sequences(sequences_train, maxlen=max_sequence_length, padding='post')\n",
    "\n",
    "# train-test split\n",
    "X_train, X_test, y_train, y_test = train_test_split(padded_sequences_train, train_df['target'], test_size=0.2, random_state=0)"
   ]
  },
  {
   "cell_type": "code",
   "execution_count": 64,
   "id": "7772128b-59c9-4584-900b-e6d9b73b7947",
   "metadata": {},
   "outputs": [],
   "source": [
    "# test set for submission\n",
    "sequences_test = tokenizer.texts_to_sequences(test_df['text'])\n",
    "padded_sequences_test = pad_sequences(sequences_test, maxlen=max_sequence_length, padding='post')"
   ]
  },
  {
   "cell_type": "code",
   "execution_count": 65,
   "id": "026505bd-0594-41ca-8139-c53dbfe05797",
   "metadata": {},
   "outputs": [],
   "source": [
    "embedding_dim = 300\n",
    "vocab_size = len(word_index) + 1\n",
    "embedding_matrix = np.zeros((vocab_size, embedding_dim))\n",
    "\n",
    "for word, i in word_index.items():\n",
    "    if word in word2vec:\n",
    "        embedding_matrix[i] = word2vec[word]\n",
    "\n",
    "# embedding_matrix"
   ]
  },
  {
   "cell_type": "code",
   "execution_count": 66,
   "id": "58fcfcd3-c5d1-49df-883f-8dbb2bcda0ac",
   "metadata": {},
   "outputs": [
    {
     "name": "stdout",
     "output_type": "stream",
     "text": [
      "Model: \"sequential_1\"\n",
      "_________________________________________________________________\n",
      " Layer (type)                Output Shape              Param #   \n",
      "=================================================================\n",
      " embedding_1 (Embedding)     (None, 50, 300)           5428200   \n",
      "                                                                 \n",
      " lstm_1 (LSTM)               (None, 32)                42624     \n",
      "                                                                 \n",
      " dense_2 (Dense)             (None, 32)                1056      \n",
      "                                                                 \n",
      " dense_3 (Dense)             (None, 1)                 33        \n",
      "                                                                 \n",
      "=================================================================\n",
      "Total params: 5471913 (20.87 MB)\n",
      "Trainable params: 43713 (170.75 KB)\n",
      "Non-trainable params: 5428200 (20.71 MB)\n",
      "_________________________________________________________________\n"
     ]
    }
   ],
   "source": [
    "# build LSTM model\n",
    "model = Sequential([\n",
    "    Input(shape=(max_sequence_length,)),\n",
    "    Embedding(input_dim=vocab_size, output_dim=embedding_dim, \n",
    "              weights=[embedding_matrix], input_length=max_sequence_length, trainable=False),\n",
    "    LSTM(32, return_sequences=False, trainable=True),\n",
    "    # Dropout(0.2),\n",
    "    Dense(32, activation='relu', trainable=True),\n",
    "    Dense(1, activation='sigmoid', trainable=True)\n",
    "])\n",
    "\n",
    "model.build()\n",
    "\n",
    "loss = tf.keras.losses.BinaryCrossentropy(from_logits=True)\n",
    "optimizer = tf.keras.optimizers.Adam(learning_rate=2e-5,epsilon=1e-08)\n",
    "\n",
    "# compile\n",
    "model.compile(optimizer=optimizer, loss=loss, metrics=['accuracy'])\n",
    "model.summary()"
   ]
  },
  {
   "cell_type": "code",
   "execution_count": 67,
   "id": "75c25f88-218e-4c48-8946-e110e5cfc83c",
   "metadata": {},
   "outputs": [],
   "source": [
    "# for layer in model.layers:\n",
    "#     print(layer)"
   ]
  },
  {
   "cell_type": "code",
   "execution_count": 68,
   "id": "bc667abd-8c68-470b-a783-a9934cb3a490",
   "metadata": {},
   "outputs": [],
   "source": [
    "early_stopping = EarlyStopping(monitor='val_loss', patience=5, restore_best_weights=True)"
   ]
  },
  {
   "cell_type": "code",
   "execution_count": 69,
   "id": "72fb5fc0-2c1f-4124-82a4-079a42af4630",
   "metadata": {},
   "outputs": [
    {
     "name": "stdout",
     "output_type": "stream",
     "text": [
      "Epoch 1/30\n",
      "191/191 [==============================] - 6s 17ms/step - loss: 0.6927 - accuracy: 0.5617 - val_loss: 0.6918 - val_accuracy: 0.5817\n",
      "Epoch 2/30\n",
      "191/191 [==============================] - 3s 14ms/step - loss: 0.6911 - accuracy: 0.5675 - val_loss: 0.6890 - val_accuracy: 0.5817\n",
      "Epoch 3/30\n",
      "191/191 [==============================] - 3s 14ms/step - loss: 0.6776 - accuracy: 0.5693 - val_loss: 0.6425 - val_accuracy: 0.5982\n",
      "Epoch 4/30\n",
      "191/191 [==============================] - 3s 14ms/step - loss: 0.6114 - accuracy: 0.7120 - val_loss: 0.5811 - val_accuracy: 0.7695\n",
      "Epoch 5/30\n",
      "191/191 [==============================] - 3s 13ms/step - loss: 0.5717 - accuracy: 0.7777 - val_loss: 0.5594 - val_accuracy: 0.7774\n",
      "Epoch 6/30\n",
      "191/191 [==============================] - 2s 13ms/step - loss: 0.5502 - accuracy: 0.7814 - val_loss: 0.5453 - val_accuracy: 0.7748\n",
      "Epoch 7/30\n",
      "191/191 [==============================] - 3s 13ms/step - loss: 0.5322 - accuracy: 0.7852 - val_loss: 0.5322 - val_accuracy: 0.7715\n",
      "Epoch 8/30\n",
      "191/191 [==============================] - 3s 13ms/step - loss: 0.5155 - accuracy: 0.7862 - val_loss: 0.5215 - val_accuracy: 0.7715\n",
      "Epoch 9/30\n",
      "191/191 [==============================] - 3s 13ms/step - loss: 0.5012 - accuracy: 0.7920 - val_loss: 0.5124 - val_accuracy: 0.7761\n",
      "Epoch 10/30\n",
      "191/191 [==============================] - 3s 13ms/step - loss: 0.4893 - accuracy: 0.7956 - val_loss: 0.5047 - val_accuracy: 0.7827\n",
      "Epoch 11/30\n",
      "191/191 [==============================] - 3s 14ms/step - loss: 0.4800 - accuracy: 0.8010 - val_loss: 0.4992 - val_accuracy: 0.7781\n",
      "Epoch 12/30\n",
      "191/191 [==============================] - 3s 14ms/step - loss: 0.4716 - accuracy: 0.8044 - val_loss: 0.4933 - val_accuracy: 0.7807\n",
      "Epoch 13/30\n",
      "191/191 [==============================] - 3s 14ms/step - loss: 0.4653 - accuracy: 0.8061 - val_loss: 0.4880 - val_accuracy: 0.7886\n",
      "Epoch 14/30\n",
      "191/191 [==============================] - 3s 13ms/step - loss: 0.4593 - accuracy: 0.8097 - val_loss: 0.4843 - val_accuracy: 0.7919\n",
      "Epoch 15/30\n",
      "191/191 [==============================] - 3s 13ms/step - loss: 0.4541 - accuracy: 0.8128 - val_loss: 0.4803 - val_accuracy: 0.7912\n",
      "Epoch 16/30\n",
      "191/191 [==============================] - 3s 14ms/step - loss: 0.4490 - accuracy: 0.8136 - val_loss: 0.4783 - val_accuracy: 0.7879\n",
      "Epoch 17/30\n",
      "191/191 [==============================] - 2s 13ms/step - loss: 0.4449 - accuracy: 0.8144 - val_loss: 0.4734 - val_accuracy: 0.7951\n",
      "Epoch 18/30\n",
      "191/191 [==============================] - 3s 14ms/step - loss: 0.4402 - accuracy: 0.8190 - val_loss: 0.4708 - val_accuracy: 0.7965\n",
      "Epoch 19/30\n",
      "191/191 [==============================] - 3s 13ms/step - loss: 0.4361 - accuracy: 0.8209 - val_loss: 0.4682 - val_accuracy: 0.7978\n",
      "Epoch 20/30\n",
      "191/191 [==============================] - 3s 14ms/step - loss: 0.4328 - accuracy: 0.8225 - val_loss: 0.4659 - val_accuracy: 0.7991\n",
      "Epoch 21/30\n",
      "191/191 [==============================] - 3s 13ms/step - loss: 0.4298 - accuracy: 0.8227 - val_loss: 0.4643 - val_accuracy: 0.8004\n",
      "Epoch 22/30\n",
      "191/191 [==============================] - 3s 14ms/step - loss: 0.4268 - accuracy: 0.8246 - val_loss: 0.4622 - val_accuracy: 0.8017\n",
      "Epoch 23/30\n",
      "191/191 [==============================] - 3s 14ms/step - loss: 0.4240 - accuracy: 0.8268 - val_loss: 0.4601 - val_accuracy: 0.8017\n",
      "Epoch 24/30\n",
      "191/191 [==============================] - 3s 13ms/step - loss: 0.4215 - accuracy: 0.8284 - val_loss: 0.4588 - val_accuracy: 0.8011\n",
      "Epoch 25/30\n",
      "191/191 [==============================] - 3s 14ms/step - loss: 0.4198 - accuracy: 0.8274 - val_loss: 0.4583 - val_accuracy: 0.8037\n",
      "Epoch 26/30\n",
      "191/191 [==============================] - 3s 14ms/step - loss: 0.4176 - accuracy: 0.8302 - val_loss: 0.4567 - val_accuracy: 0.8070\n",
      "Epoch 27/30\n",
      "191/191 [==============================] - 3s 13ms/step - loss: 0.4155 - accuracy: 0.8312 - val_loss: 0.4559 - val_accuracy: 0.8063\n",
      "Epoch 28/30\n",
      "191/191 [==============================] - 3s 14ms/step - loss: 0.4137 - accuracy: 0.8310 - val_loss: 0.4550 - val_accuracy: 0.8076\n",
      "Epoch 29/30\n",
      "191/191 [==============================] - 2s 13ms/step - loss: 0.4118 - accuracy: 0.8315 - val_loss: 0.4547 - val_accuracy: 0.8096\n",
      "Epoch 30/30\n",
      "191/191 [==============================] - 3s 14ms/step - loss: 0.4104 - accuracy: 0.8335 - val_loss: 0.4535 - val_accuracy: 0.8070\n"
     ]
    }
   ],
   "source": [
    "history = model.fit(X_train, y_train, \n",
    "                    validation_data=(X_test, y_test), \n",
    "                    epochs=30, \n",
    "                    batch_size=32, \n",
    "                    callbacks=[early_stopping], \n",
    "                    verbose=1)"
   ]
  },
  {
   "cell_type": "code",
   "execution_count": 70,
   "id": "e043da6f-6232-44a6-a6a1-36666524f1af",
   "metadata": {},
   "outputs": [],
   "source": [
    "def plot_accuracy(hist, name):\n",
    "    hist_train = hist.history['accuracy']\n",
    "    hist_val = hist.history['val_accuracy']\n",
    "\n",
    "    plt.figure(figsize=(11, 7))\n",
    "\n",
    "    plt.plot(range(len(hist_train)), hist_train, marker='o', label = 'accuracy, training')\n",
    "    plt.plot(range(len(hist_train)), hist_val, marker='o', label = 'accuracy, validation')\n",
    "    \n",
    "    plt.xticks(range(len(hist_train)), range(len(hist_train)), rotation=45)\n",
    "    \n",
    "    plt.legend() \n",
    "    \n",
    "    plt.xlabel(\"Epoch\")\n",
    "    plt.ylabel(\"Accuracy\")\n",
    "    plt.title(name)\n",
    "    plt.grid(True)\n",
    "    plt.show()"
   ]
  },
  {
   "cell_type": "code",
   "execution_count": 71,
   "id": "91968170-2770-40f8-aa23-2f5eced6a89c",
   "metadata": {},
   "outputs": [
    {
     "data": {
      "image/png": "[encoded data removed]",
      "text/plain": [
       "<Figure size 1100x700 with 1 Axes>"
      ]
     },
     "metadata": {},
     "output_type": "display_data"
    }
   ],
   "source": [
    "plot_accuracy(history, \"test\")"
   ]
  },
  {
   "cell_type": "code",
   "execution_count": 72,
   "id": "fee2217c-3a68-4613-8e6b-cd14c42e564f",
   "metadata": {},
   "outputs": [
    {
     "name": "stdout",
     "output_type": "stream",
     "text": [
      "102/102 [==============================] - 1s 6ms/step\n"
     ]
    },
    {
     "data": {
      "text/plain": [
       "array([[0.87813336],\n",
       "       [0.64021873],\n",
       "       [0.89303356],\n",
       "       ...,\n",
       "       [0.89649487],\n",
       "       [0.5425272 ],\n",
       "       [0.5755964 ]], dtype=float32)"
      ]
     },
     "execution_count": 72,
     "metadata": {},
     "output_type": "execute_result"
    }
   ],
   "source": [
    "# save submission\n",
    "y_test_pred = model.predict(padded_sequences_test)\n",
    "y_test_pred"
   ]
  },
  {
   "cell_type": "code",
   "execution_count": 76,
   "id": "971d54b4-f554-48f6-b5ec-511e8af83fca",
   "metadata": {},
   "outputs": [
    {
     "data": {
      "text/html": [
       "<div>\n",
       "<style scoped>\n",
       "    .dataframe tbody tr th:only-of-type {\n",
       "        vertical-align: middle;\n",
       "    }\n",
       "\n",
       "    .dataframe tbody tr th {\n",
       "        vertical-align: top;\n",
       "    }\n",
       "\n",
       "    .dataframe thead th {\n",
       "        text-align: right;\n",
       "    }\n",
       "</style>\n",
       "<table border=\"1\" class=\"dataframe\">\n",
       "  <thead>\n",
       "    <tr style=\"text-align: right;\">\n",
       "      <th></th>\n",
       "      <th>id</th>\n",
       "      <th>target</th>\n",
       "    </tr>\n",
       "  </thead>\n",
       "  <tbody>\n",
       "    <tr>\n",
       "      <th>0</th>\n",
       "      <td>0</td>\n",
       "      <td>1</td>\n",
       "    </tr>\n",
       "    <tr>\n",
       "      <th>1</th>\n",
       "      <td>2</td>\n",
       "      <td>1</td>\n",
       "    </tr>\n",
       "    <tr>\n",
       "      <th>2</th>\n",
       "      <td>3</td>\n",
       "      <td>1</td>\n",
       "    </tr>\n",
       "    <tr>\n",
       "      <th>3</th>\n",
       "      <td>9</td>\n",
       "      <td>1</td>\n",
       "    </tr>\n",
       "    <tr>\n",
       "      <th>4</th>\n",
       "      <td>11</td>\n",
       "      <td>1</td>\n",
       "    </tr>\n",
       "    <tr>\n",
       "      <th>...</th>\n",
       "      <td>...</td>\n",
       "      <td>...</td>\n",
       "    </tr>\n",
       "    <tr>\n",
       "      <th>3258</th>\n",
       "      <td>10861</td>\n",
       "      <td>1</td>\n",
       "    </tr>\n",
       "    <tr>\n",
       "      <th>3259</th>\n",
       "      <td>10865</td>\n",
       "      <td>1</td>\n",
       "    </tr>\n",
       "    <tr>\n",
       "      <th>3260</th>\n",
       "      <td>10868</td>\n",
       "      <td>1</td>\n",
       "    </tr>\n",
       "    <tr>\n",
       "      <th>3261</th>\n",
       "      <td>10874</td>\n",
       "      <td>1</td>\n",
       "    </tr>\n",
       "    <tr>\n",
       "      <th>3262</th>\n",
       "      <td>10875</td>\n",
       "      <td>1</td>\n",
       "    </tr>\n",
       "  </tbody>\n",
       "</table>\n",
       "<p>3263 rows × 2 columns</p>\n",
       "</div>"
      ],
      "text/plain": [
       "         id  target\n",
       "0         0       1\n",
       "1         2       1\n",
       "2         3       1\n",
       "3         9       1\n",
       "4        11       1\n",
       "...     ...     ...\n",
       "3258  10861       1\n",
       "3259  10865       1\n",
       "3260  10868       1\n",
       "3261  10874       1\n",
       "3262  10875       1\n",
       "\n",
       "[3263 rows x 2 columns]"
      ]
     },
     "execution_count": 76,
     "metadata": {},
     "output_type": "execute_result"
    }
   ],
   "source": [
    "submission_df = pd.DataFrame()\n",
    "\n",
    "submission_df['id'] = test_df['id']\n",
    "submission_df['target'] = (y_test_pred > 0.5).astype(int)\n",
    "\n",
    "submission_df.to_csv(\"./submissions/submission_RNN_1.csv\", index=False)\n",
    "submission_df"
   ]
  },
  {
   "cell_type": "markdown",
   "id": "cacbefe7-5c7d-4306-af78-35a798a3d8d1",
   "metadata": {},
   "source": [
    "## Try Transformers"
   ]
  },
  {
   "cell_type": "code",
   "execution_count": 77,
   "id": "a726b911-8a20-44bc-b095-084116df5675",
   "metadata": {},
   "outputs": [],
   "source": [
    "# import os\n",
    "# os.environ['TF_USE_LEGACY_KERAS'] = '1'\n",
    "from transformers import BertTokenizer, TFBertForSequenceClassification\n"
   ]
  },
  {
   "cell_type": "code",
   "execution_count": 78,
   "id": "f6664d00-8206-4316-a054-7e79c4927c80",
   "metadata": {},
   "outputs": [],
   "source": [
    "from sklearn.model_selection import train_test_split\n",
    "\n",
    "train_texts, val_texts, train_labels, val_labels = train_test_split(\n",
    "    train_df['text'], \n",
    "    train_df['target'],\n",
    "    test_size=0.2,\n",
    "    random_state=0\n",
    ")"
   ]
  },
  {
   "cell_type": "code",
   "execution_count": 79,
   "id": "8344a7de-927b-4566-aa7e-cc3db9031941",
   "metadata": {},
   "outputs": [],
   "source": [
    "# load BERT tokenizer\n",
    "tokenizer = BertTokenizer.from_pretrained('bert-base-uncased')\n",
    "\n",
    "# tokenize the training and validation texts\n",
    "train_encodings = tokenizer(\n",
    "    list(train_texts),\n",
    "    max_length=50,\n",
    "    padding='max_length',\n",
    "    truncation=True,\n",
    "    return_tensors='tf' \n",
    ")\n",
    "\n",
    "val_encodings = tokenizer(\n",
    "    list(val_texts),\n",
    "    max_length=50,\n",
    "    padding='max_length',\n",
    "    truncation=True,\n",
    "    return_tensors='tf'\n",
    ")\n",
    "\n",
    "test_encodings = tokenizer(\n",
    "    list(test_df['text']),\n",
    "    max_length=50,\n",
    "    padding='max_length',\n",
    "    truncation=True,\n",
    "    return_tensors='tf' \n",
    ")"
   ]
  },
  {
   "cell_type": "code",
   "execution_count": 80,
   "id": "7a5af7dc-dfd3-4c32-9d1a-2ea144aaa515",
   "metadata": {},
   "outputs": [],
   "source": [
    "# convert labels to tensors\n",
    "train_labels = tf.convert_to_tensor(train_labels.tolist())\n",
    "val_labels = tf.convert_to_tensor(val_labels.tolist())\n",
    "\n",
    "# create TensorFlow datasets\n",
    "train_dataset = tf.data.Dataset.from_tensor_slices((\n",
    "    {'input_ids': train_encodings['input_ids'], 'attention_mask': train_encodings['attention_mask']},\n",
    "    train_labels\n",
    ")).batch(32)\n",
    "\n",
    "val_dataset = tf.data.Dataset.from_tensor_slices((\n",
    "    {'input_ids': val_encodings['input_ids'], 'attention_mask': val_encodings['attention_mask']},\n",
    "    val_labels\n",
    ")).batch(32)\n",
    "\n",
    "test_dataset = tf.data.Dataset.from_tensor_slices((\n",
    "    {'input_ids': test_encodings['input_ids'], 'attention_mask': test_encodings['attention_mask']}\n",
    ")).batch(32)"
   ]
  },
  {
   "cell_type": "code",
   "execution_count": 104,
   "id": "bd2d15f0-acd3-4538-9566-ab7d4b026772",
   "metadata": {},
   "outputs": [
    {
     "name": "stderr",
     "output_type": "stream",
     "text": [
      "All PyTorch model weights were used when initializing TFBertForSequenceClassification.\n",
      "\n",
      "Some weights or buffers of the TF 2.0 model TFBertForSequenceClassification were not initialized from the PyTorch model and are newly initialized: ['classifier.weight', 'classifier.bias']\n",
      "You should probably TRAIN this model on a down-stream task to be able to use it for predictions and inference.\n"
     ]
    },
    {
     "name": "stdout",
     "output_type": "stream",
     "text": [
      "Model: \"tf_bert_for_sequence_classification_8\"\n",
      "_________________________________________________________________\n",
      " Layer (type)                Output Shape              Param #   \n",
      "=================================================================\n",
      " bert (TFBertMainLayer)      multiple                  109482240 \n",
      "                                                                 \n",
      " dropout_311 (Dropout)       multiple                  0 (unused)\n",
      "                                                                 \n",
      " classifier (Dense)          multiple                  769       \n",
      "                                                                 \n",
      "=================================================================\n",
      "Total params: 109483009 (417.64 MB)\n",
      "Trainable params: 109483009 (417.64 MB)\n",
      "Non-trainable params: 0 (0.00 Byte)\n",
      "_________________________________________________________________\n"
     ]
    }
   ],
   "source": [
    "# load and compile BERT model\n",
    "model = TFBertForSequenceClassification.from_pretrained('bert-base-uncased', num_labels=1)\n",
    "\n",
    "# loss = tf.keras.losses.BinaryCrossentropy(from_logits=True)\n",
    "loss = tf.keras.losses.BinaryCrossentropy(from_logits=True)\n",
    "# metric = tf.keras.metrics.SparseCategoricalAccuracy('accuracy')\n",
    "optimizer = tf.keras.optimizers.Adam(learning_rate=2e-6,epsilon=1e-04)\n",
    "model.compile(optimizer=optimizer, loss=loss, metrics=['accuracy'])\n",
    "\n",
    "model.summary()"
   ]
  },
  {
   "cell_type": "code",
   "execution_count": 105,
   "id": "d36621e7-39f1-4d3f-a954-1d15a0cff6ef",
   "metadata": {},
   "outputs": [
    {
     "name": "stdout",
     "output_type": "stream",
     "text": [
      "bert True\n",
      "dropout_311 True\n",
      "classifier True\n"
     ]
    }
   ],
   "source": [
    "for layer in model.layers:\n",
    "    print(layer.name, layer.trainable)\n",
    "    "
   ]
  },
  {
   "cell_type": "code",
   "execution_count": 106,
   "id": "924e77c1-5d75-4d04-b9ae-c300692a9a06",
   "metadata": {},
   "outputs": [
    {
     "data": {
      "text/plain": [
       "<tf.Variable 'learning_rate:0' shape=() dtype=float32, numpy=2e-06>"
      ]
     },
     "execution_count": 106,
     "metadata": {},
     "output_type": "execute_result"
    }
   ],
   "source": [
    "model.optimizer.lr"
   ]
  },
  {
   "cell_type": "code",
   "execution_count": 107,
   "id": "d1778f1f-e41b-4cf9-ad42-1970477f9cb4",
   "metadata": {},
   "outputs": [
    {
     "name": "stdout",
     "output_type": "stream",
     "text": [
      "Epoch 1/20\n",
      "191/191 [==============================] - 76s 230ms/step - loss: 0.6709 - accuracy: 0.5708 - val_loss: 0.6293 - val_accuracy: 0.6014\n",
      "Epoch 2/20\n",
      "191/191 [==============================] - 38s 197ms/step - loss: 0.5939 - accuracy: 0.6759 - val_loss: 0.5353 - val_accuracy: 0.7754\n",
      "Epoch 3/20\n",
      "191/191 [==============================] - 39s 204ms/step - loss: 0.5035 - accuracy: 0.7823 - val_loss: 0.4623 - val_accuracy: 0.8181\n",
      "Epoch 4/20\n",
      "191/191 [==============================] - 39s 203ms/step - loss: 0.4423 - accuracy: 0.8205 - val_loss: 0.4302 - val_accuracy: 0.8299\n",
      "Epoch 5/20\n",
      "191/191 [==============================] - 37s 196ms/step - loss: 0.4046 - accuracy: 0.8386 - val_loss: 0.4169 - val_accuracy: 0.8339\n",
      "Epoch 6/20\n",
      "191/191 [==============================] - 38s 198ms/step - loss: 0.3792 - accuracy: 0.8506 - val_loss: 0.4158 - val_accuracy: 0.8332\n",
      "Epoch 7/20\n",
      "191/191 [==============================] - 38s 199ms/step - loss: 0.3605 - accuracy: 0.8581 - val_loss: 0.4142 - val_accuracy: 0.8326\n",
      "Epoch 8/20\n",
      "191/191 [==============================] - 38s 200ms/step - loss: 0.3479 - accuracy: 0.8680 - val_loss: 0.4185 - val_accuracy: 0.8299\n",
      "Epoch 9/20\n",
      "191/191 [==============================] - 38s 198ms/step - loss: 0.3312 - accuracy: 0.8727 - val_loss: 0.4066 - val_accuracy: 0.8359\n",
      "Epoch 10/20\n",
      "191/191 [==============================] - 39s 203ms/step - loss: 0.3180 - accuracy: 0.8814 - val_loss: 0.4092 - val_accuracy: 0.8326\n",
      "Epoch 11/20\n",
      "191/191 [==============================] - 39s 206ms/step - loss: 0.2984 - accuracy: 0.8888 - val_loss: 0.4182 - val_accuracy: 0.8313\n",
      "Epoch 12/20\n",
      "191/191 [==============================] - 39s 204ms/step - loss: 0.2881 - accuracy: 0.8993 - val_loss: 0.4223 - val_accuracy: 0.8313\n",
      "Epoch 13/20\n",
      "191/191 [==============================] - 39s 205ms/step - loss: 0.2780 - accuracy: 0.9028 - val_loss: 0.4297 - val_accuracy: 0.8306\n",
      "Epoch 14/20\n",
      "191/191 [==============================] - 40s 207ms/step - loss: 0.2680 - accuracy: 0.9062 - val_loss: 0.4335 - val_accuracy: 0.8273\n"
     ]
    }
   ],
   "source": [
    "# train the model\n",
    "early_stopping = EarlyStopping(monitor='val_loss', patience=5, restore_best_weights=True)\n",
    "\n",
    "history = model.fit(\n",
    "    train_dataset,\n",
    "    validation_data=val_dataset,\n",
    "    epochs=20,\n",
    "    callbacks=[early_stopping]\n",
    ")"
   ]
  },
  {
   "cell_type": "code",
   "execution_count": 109,
   "id": "bf4d3d50-c0b2-4d5f-8116-3b4db0663791",
   "metadata": {},
   "outputs": [
    {
     "data": {
      "image/png": "[encoded data removed]",
      "text/plain": [
       "<Figure size 1100x700 with 1 Axes>"
      ]
     },
     "metadata": {},
     "output_type": "display_data"
    }
   ],
   "source": [
    "plot_accuracy(history, \"pre-trained BERT\")"
   ]
  },
  {
   "cell_type": "code",
   "execution_count": 102,
   "id": "9cb1f3ed-e726-4301-8f86-3af85124a6d4",
   "metadata": {},
   "outputs": [
    {
     "name": "stdout",
     "output_type": "stream",
     "text": [
      "102/102 [==============================] - 9s 85ms/step\n"
     ]
    }
   ],
   "source": [
    "predictions = model.predict(test_dataset)\n",
    "probabilities = tf.nn.sigmoid(predictions.logits)\n",
    "predicted_classes = tf.cast(probabilities > 0.5, dtype=tf.int32)"
   ]
  },
  {
   "cell_type": "code",
   "execution_count": 103,
   "id": "a9123542-0db0-4b94-b8ea-49b626f44cf7",
   "metadata": {},
   "outputs": [
    {
     "data": {
      "text/html": [
       "<div>\n",
       "<style scoped>\n",
       "    .dataframe tbody tr th:only-of-type {\n",
       "        vertical-align: middle;\n",
       "    }\n",
       "\n",
       "    .dataframe tbody tr th {\n",
       "        vertical-align: top;\n",
       "    }\n",
       "\n",
       "    .dataframe thead th {\n",
       "        text-align: right;\n",
       "    }\n",
       "</style>\n",
       "<table border=\"1\" class=\"dataframe\">\n",
       "  <thead>\n",
       "    <tr style=\"text-align: right;\">\n",
       "      <th></th>\n",
       "      <th>id</th>\n",
       "      <th>target</th>\n",
       "    </tr>\n",
       "  </thead>\n",
       "  <tbody>\n",
       "    <tr>\n",
       "      <th>0</th>\n",
       "      <td>0</td>\n",
       "      <td>1</td>\n",
       "    </tr>\n",
       "    <tr>\n",
       "      <th>1</th>\n",
       "      <td>2</td>\n",
       "      <td>1</td>\n",
       "    </tr>\n",
       "    <tr>\n",
       "      <th>2</th>\n",
       "      <td>3</td>\n",
       "      <td>1</td>\n",
       "    </tr>\n",
       "    <tr>\n",
       "      <th>3</th>\n",
       "      <td>9</td>\n",
       "      <td>1</td>\n",
       "    </tr>\n",
       "    <tr>\n",
       "      <th>4</th>\n",
       "      <td>11</td>\n",
       "      <td>1</td>\n",
       "    </tr>\n",
       "    <tr>\n",
       "      <th>...</th>\n",
       "      <td>...</td>\n",
       "      <td>...</td>\n",
       "    </tr>\n",
       "    <tr>\n",
       "      <th>3258</th>\n",
       "      <td>10861</td>\n",
       "      <td>0</td>\n",
       "    </tr>\n",
       "    <tr>\n",
       "      <th>3259</th>\n",
       "      <td>10865</td>\n",
       "      <td>1</td>\n",
       "    </tr>\n",
       "    <tr>\n",
       "      <th>3260</th>\n",
       "      <td>10868</td>\n",
       "      <td>1</td>\n",
       "    </tr>\n",
       "    <tr>\n",
       "      <th>3261</th>\n",
       "      <td>10874</td>\n",
       "      <td>1</td>\n",
       "    </tr>\n",
       "    <tr>\n",
       "      <th>3262</th>\n",
       "      <td>10875</td>\n",
       "      <td>1</td>\n",
       "    </tr>\n",
       "  </tbody>\n",
       "</table>\n",
       "<p>3263 rows × 2 columns</p>\n",
       "</div>"
      ],
      "text/plain": [
       "         id  target\n",
       "0         0       1\n",
       "1         2       1\n",
       "2         3       1\n",
       "3         9       1\n",
       "4        11       1\n",
       "...     ...     ...\n",
       "3258  10861       0\n",
       "3259  10865       1\n",
       "3260  10868       1\n",
       "3261  10874       1\n",
       "3262  10875       1\n",
       "\n",
       "[3263 rows x 2 columns]"
      ]
     },
     "execution_count": 103,
     "metadata": {},
     "output_type": "execute_result"
    }
   ],
   "source": [
    "submission_df = pd.DataFrame()\n",
    "\n",
    "submission_df['id'] = test_df['id']\n",
    "submission_df['target'] = np.array(predicted_classes)\n",
    "\n",
    "submission_df.to_csv(\"./submissions/submission_pretrained_BERT_confirmed_submission.csv\", index=False)\n",
    "submission_df"
   ]
  },
  {
   "cell_type": "code",
   "execution_count": null,
   "id": "44850f7f-ec47-4360-87b1-b191ee214770",
   "metadata": {},
   "outputs": [],
   "source": []
  },
  {
   "cell_type": "code",
   "execution_count": 38,
   "id": "f975bb81-ae1d-44dc-b008-021de960d932",
   "metadata": {},
   "outputs": [
    {
     "name": "stdout",
     "output_type": "stream",
     "text": [
      "Model: \"tf_bert_for_sequence_classification_3\"\n",
      "_________________________________________________________________\n",
      " Layer (type)                Output Shape              Param #   \n",
      "=================================================================\n",
      " bert (TFBertMainLayer)      multiple                  249304    \n",
      "                                                                 \n",
      " dropout_121 (Dropout)       multiple                  0 (unused)\n",
      "                                                                 \n",
      " classifier (Dense)          multiple                  9         \n",
      "                                                                 \n",
      "=================================================================\n",
      "Total params: 249313 (973.88 KB)\n",
      "Trainable params: 249313 (973.88 KB)\n",
      "Non-trainable params: 0 (0.00 Byte)\n",
      "_________________________________________________________________\n"
     ]
    }
   ],
   "source": [
    "from transformers import BertConfig, TFBertForSequenceClassification, BertTokenizerFast\n",
    "\n",
    "config = BertConfig(\n",
    "    vocab_size=30522,  \n",
    "    hidden_size=8, \n",
    "    num_hidden_layers=2, \n",
    "    num_attention_heads=4, \n",
    "    intermediate_size=8, \n",
    "    max_position_embeddings=512,\n",
    "    num_labels=1\n",
    ")\n",
    "\n",
    "model = TFBertForSequenceClassification(config)\n",
    "\n",
    "model.build()\n",
    "model.compile(optimizer='adam', loss='binary_crossentropy', metrics=['accuracy'])\n",
    "\n",
    "model.summary()"
   ]
  },
  {
   "cell_type": "code",
   "execution_count": null,
   "id": "ccc67b47-eae0-4f63-bd56-8dd35a5f0202",
   "metadata": {},
   "outputs": [],
   "source": [
    "history = model.fit(\n",
    "    train_dataset,\n",
    "    validation_data=val_dataset,\n",
    "    epochs=10,\n",
    "    # callbacks=[early_stopping]\n",
    ")"
   ]
  },
  {
   "cell_type": "code",
   "execution_count": 325,
   "id": "e5e7aac3-faf0-4cf4-92bb-545ac2d758e7",
   "metadata": {},
   "outputs": [
    {
     "name": "stdout",
     "output_type": "stream",
     "text": [
      "102/102 [==============================] - 7s 53ms/step\n"
     ]
    }
   ],
   "source": [
    "predictions = model.predict(test_dataset)\n",
    "probabilities = tf.nn.sigmoid(predictions.logits)\n",
    "predicted_classes = tf.cast(probabilities > 0.5, dtype=tf.int32)"
   ]
  },
  {
   "cell_type": "code",
   "execution_count": 326,
   "id": "ff099903-3ddb-4c89-b557-0b3f4dbf8aaa",
   "metadata": {},
   "outputs": [
    {
     "data": {
      "text/plain": [
       "array([[1],\n",
       "       [1],\n",
       "       [1],\n",
       "       ...,\n",
       "       [1],\n",
       "       [1],\n",
       "       [1]], dtype=int32)"
      ]
     },
     "execution_count": 326,
     "metadata": {},
     "output_type": "execute_result"
    }
   ],
   "source": [
    "np.array(predicted_classes)"
   ]
  },
  {
   "cell_type": "code",
   "execution_count": 327,
   "id": "fba08ebd-7016-437f-8ecb-df2c924dbebd",
   "metadata": {},
   "outputs": [],
   "source": [
    "submission_df = pd.DataFrame()"
   ]
  },
  {
   "cell_type": "code",
   "execution_count": 328,
   "id": "c1210a07-b6de-435c-8ac0-e35f321c7389",
   "metadata": {},
   "outputs": [],
   "source": [
    "submission_df['id'] = test_df['id']\n",
    "submission_df['target'] = np.array(predicted_classes)"
   ]
  },
  {
   "cell_type": "code",
   "execution_count": 329,
   "id": "12ce204d-4b7a-4622-aa3d-ae343d9e23cb",
   "metadata": {},
   "outputs": [
    {
     "data": {
      "text/html": [
       "<div>\n",
       "<style scoped>\n",
       "    .dataframe tbody tr th:only-of-type {\n",
       "        vertical-align: middle;\n",
       "    }\n",
       "\n",
       "    .dataframe tbody tr th {\n",
       "        vertical-align: top;\n",
       "    }\n",
       "\n",
       "    .dataframe thead th {\n",
       "        text-align: right;\n",
       "    }\n",
       "</style>\n",
       "<table border=\"1\" class=\"dataframe\">\n",
       "  <thead>\n",
       "    <tr style=\"text-align: right;\">\n",
       "      <th></th>\n",
       "      <th>id</th>\n",
       "      <th>target</th>\n",
       "    </tr>\n",
       "  </thead>\n",
       "  <tbody>\n",
       "    <tr>\n",
       "      <th>0</th>\n",
       "      <td>0</td>\n",
       "      <td>1</td>\n",
       "    </tr>\n",
       "    <tr>\n",
       "      <th>1</th>\n",
       "      <td>2</td>\n",
       "      <td>1</td>\n",
       "    </tr>\n",
       "    <tr>\n",
       "      <th>2</th>\n",
       "      <td>3</td>\n",
       "      <td>1</td>\n",
       "    </tr>\n",
       "    <tr>\n",
       "      <th>3</th>\n",
       "      <td>9</td>\n",
       "      <td>1</td>\n",
       "    </tr>\n",
       "    <tr>\n",
       "      <th>4</th>\n",
       "      <td>11</td>\n",
       "      <td>1</td>\n",
       "    </tr>\n",
       "    <tr>\n",
       "      <th>...</th>\n",
       "      <td>...</td>\n",
       "      <td>...</td>\n",
       "    </tr>\n",
       "    <tr>\n",
       "      <th>3258</th>\n",
       "      <td>10861</td>\n",
       "      <td>1</td>\n",
       "    </tr>\n",
       "    <tr>\n",
       "      <th>3259</th>\n",
       "      <td>10865</td>\n",
       "      <td>1</td>\n",
       "    </tr>\n",
       "    <tr>\n",
       "      <th>3260</th>\n",
       "      <td>10868</td>\n",
       "      <td>1</td>\n",
       "    </tr>\n",
       "    <tr>\n",
       "      <th>3261</th>\n",
       "      <td>10874</td>\n",
       "      <td>1</td>\n",
       "    </tr>\n",
       "    <tr>\n",
       "      <th>3262</th>\n",
       "      <td>10875</td>\n",
       "      <td>1</td>\n",
       "    </tr>\n",
       "  </tbody>\n",
       "</table>\n",
       "<p>3263 rows × 2 columns</p>\n",
       "</div>"
      ],
      "text/plain": [
       "         id  target\n",
       "0         0       1\n",
       "1         2       1\n",
       "2         3       1\n",
       "3         9       1\n",
       "4        11       1\n",
       "...     ...     ...\n",
       "3258  10861       1\n",
       "3259  10865       1\n",
       "3260  10868       1\n",
       "3261  10874       1\n",
       "3262  10875       1\n",
       "\n",
       "[3263 rows x 2 columns]"
      ]
     },
     "execution_count": 329,
     "metadata": {},
     "output_type": "execute_result"
    }
   ],
   "source": [
    "submission_df.to_csv(\"./submissions/submission.csv\", index=False)\n",
    "submission_df"
   ]
  },
  {
   "cell_type": "code",
   "execution_count": null,
   "id": "fc504571-aa50-469a-a38e-4cf86c825f9b",
   "metadata": {},
   "outputs": [],
   "source": []
  },
  {
   "cell_type": "code",
   "execution_count": null,
   "id": "35630479-8c10-4940-af89-0865af16271f",
   "metadata": {},
   "outputs": [],
   "source": []
  }
 ],
 "metadata": {
  "kernelspec": {
   "display_name": "Python 3 (ipykernel)",
   "language": "python",
   "name": "python3"
  },
  "language_info": {
   "codemirror_mode": {
    "name": "ipython",
    "version": 3
   },
   "file_extension": ".py",
   "mimetype": "text/x-python",
   "name": "python",
   "nbconvert_exporter": "python",
   "pygments_lexer": "ipython3",
   "version": "3.10.12"
  }
 },
 "nbformat": 4,
 "nbformat_minor": 5
}
