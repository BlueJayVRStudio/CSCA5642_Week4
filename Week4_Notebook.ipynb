{
 "cells": [
  {
   "cell_type": "markdown",
   "id": "531a562b-53db-40f4-9f86-ea9c3322b02c",
   "metadata": {},
   "source": [
    "# Week 4 Mini Project: RNN Disaster Tweets Classification\n",
    "\n",
    "By: Jaeyoung Oh\n",
    "\n",
    "Repo: https://github.com/BlueJayVRStudio/CSCA5642_Week4"
   ]
  },
  {
   "cell_type": "markdown",
   "id": "0f81b4f0-7ddd-4e57-b781-317960e08ec3",
   "metadata": {},
   "source": [
    "## Problem Statement\n",
    "\n",
    "The objective of this week's mini project is to classify the context of Tweets. It is a simple binary classification between whether it is about real disasters or not. The set of data consists of a training set and a test set. The test set is reserved only for submission and not validation. The training set consists of 7613 hand-classified data points each composed of ID, keyword, location, body of text and target label. We will first explore keyword, location and text body to identify potential input columns and then perform necessary preprocessing steps on the selected input."
   ]
  },
  {
   "cell_type": "markdown",
   "id": "583ebd0a-071c-4acc-9928-b05aff2e0e7b",
   "metadata": {},
   "source": [
    "### Import Modules"
   ]
  },
  {
   "cell_type": "code",
   "execution_count": 3,
   "id": "5807ff31-1910-4d9a-a362-733f912457eb",
   "metadata": {},
   "outputs": [
    {
     "name": "stdout",
     "output_type": "stream",
     "text": [
      "Num GPUs Available: 1\n"
     ]
    }
   ],
   "source": [
    "import os\n",
    "os.environ['TF_USE_LEGACY_KERAS'] = '1'\n",
    "os.environ['TF_CPP_MIN_LOG_LEVEL'] = '3'\n",
    "os.environ['PYTHONWARNINGS']='ignore'\n",
    "import warnings\n",
    "warnings.filterwarnings(\"ignore\")\n",
    "\n",
    "import numpy as np\n",
    "import pandas as pd\n",
    "import matplotlib.pyplot as plt\n",
    "from sklearn.model_selection import train_test_split\n",
    "\n",
    "from gensim.models import KeyedVectors\n",
    "from tensorflow.keras.preprocessing.text import Tokenizer\n",
    "\n",
    "import tensorflow as tf\n",
    "print(\"Num GPUs Available:\", len(tf.config.list_physical_devices('GPU')))\n",
    "\n",
    "from tensorflow.keras.preprocessing.sequence import pad_sequences\n",
    "from tensorflow.keras.models import Sequential\n",
    "from tensorflow.keras.layers import Embedding, LSTM, GRU, Dense, Dropout, Input\n",
    "from tensorflow.keras.callbacks import EarlyStopping\n",
    "from sklearn.metrics import classification_report"
   ]
  },
  {
   "cell_type": "markdown",
   "id": "3517d23e-bc9e-455e-a8da-b694960a3483",
   "metadata": {},
   "source": [
    "## EDA"
   ]
  },
  {
   "cell_type": "code",
   "execution_count": 4,
   "id": "1283bb00-d948-4f9c-9810-72f602ab8086",
   "metadata": {},
   "outputs": [],
   "source": [
    "train_df = pd.read_csv('./data/train.csv')\n",
    "test_df = pd.read_csv('./data/test.csv')"
   ]
  },
  {
   "cell_type": "code",
   "execution_count": 5,
   "id": "4f8da857-84d7-4ea4-a817-033a56c17635",
   "metadata": {},
   "outputs": [
    {
     "name": "stdout",
     "output_type": "stream",
     "text": [
      "<class 'pandas.core.frame.DataFrame'>\n",
      "RangeIndex: 7613 entries, 0 to 7612\n",
      "Data columns (total 5 columns):\n",
      " #   Column    Non-Null Count  Dtype \n",
      "---  ------    --------------  ----- \n",
      " 0   id        7613 non-null   int64 \n",
      " 1   keyword   7552 non-null   object\n",
      " 2   location  5080 non-null   object\n",
      " 3   text      7613 non-null   object\n",
      " 4   target    7613 non-null   int64 \n",
      "dtypes: int64(2), object(3)\n",
      "memory usage: 297.5+ KB\n"
     ]
    }
   ],
   "source": [
    "train_df.info()"
   ]
  },
  {
   "cell_type": "code",
   "execution_count": 6,
   "id": "9c9658cd-bcc9-4acd-a8e6-93c9054b9288",
   "metadata": {},
   "outputs": [
    {
     "name": "stdout",
     "output_type": "stream",
     "text": [
      "<class 'pandas.core.frame.DataFrame'>\n",
      "RangeIndex: 3263 entries, 0 to 3262\n",
      "Data columns (total 4 columns):\n",
      " #   Column    Non-Null Count  Dtype \n",
      "---  ------    --------------  ----- \n",
      " 0   id        3263 non-null   int64 \n",
      " 1   keyword   3237 non-null   object\n",
      " 2   location  2158 non-null   object\n",
      " 3   text      3263 non-null   object\n",
      "dtypes: int64(1), object(3)\n",
      "memory usage: 102.1+ KB\n"
     ]
    }
   ],
   "source": [
    "test_df.info()"
   ]
  },
  {
   "cell_type": "code",
   "execution_count": 7,
   "id": "859a7281-8989-4e0c-9d65-c136dfaedc16",
   "metadata": {},
   "outputs": [
    {
     "data": {
      "text/html": [
       "<div>\n",
       "<style scoped>\n",
       "    .dataframe tbody tr th:only-of-type {\n",
       "        vertical-align: middle;\n",
       "    }\n",
       "\n",
       "    .dataframe tbody tr th {\n",
       "        vertical-align: top;\n",
       "    }\n",
       "\n",
       "    .dataframe thead th {\n",
       "        text-align: right;\n",
       "    }\n",
       "</style>\n",
       "<table border=\"1\" class=\"dataframe\">\n",
       "  <thead>\n",
       "    <tr style=\"text-align: right;\">\n",
       "      <th></th>\n",
       "      <th>id</th>\n",
       "      <th>keyword</th>\n",
       "      <th>location</th>\n",
       "      <th>text</th>\n",
       "      <th>target</th>\n",
       "    </tr>\n",
       "  </thead>\n",
       "  <tbody>\n",
       "    <tr>\n",
       "      <th>0</th>\n",
       "      <td>1</td>\n",
       "      <td>NaN</td>\n",
       "      <td>NaN</td>\n",
       "      <td>Our Deeds are the Reason of this #earthquake M...</td>\n",
       "      <td>1</td>\n",
       "    </tr>\n",
       "    <tr>\n",
       "      <th>1</th>\n",
       "      <td>4</td>\n",
       "      <td>NaN</td>\n",
       "      <td>NaN</td>\n",
       "      <td>Forest fire near La Ronge Sask. Canada</td>\n",
       "      <td>1</td>\n",
       "    </tr>\n",
       "    <tr>\n",
       "      <th>2</th>\n",
       "      <td>5</td>\n",
       "      <td>NaN</td>\n",
       "      <td>NaN</td>\n",
       "      <td>All residents asked to 'shelter in place' are ...</td>\n",
       "      <td>1</td>\n",
       "    </tr>\n",
       "    <tr>\n",
       "      <th>3</th>\n",
       "      <td>6</td>\n",
       "      <td>NaN</td>\n",
       "      <td>NaN</td>\n",
       "      <td>13,000 people receive #wildfires evacuation or...</td>\n",
       "      <td>1</td>\n",
       "    </tr>\n",
       "    <tr>\n",
       "      <th>4</th>\n",
       "      <td>7</td>\n",
       "      <td>NaN</td>\n",
       "      <td>NaN</td>\n",
       "      <td>Just got sent this photo from Ruby #Alaska as ...</td>\n",
       "      <td>1</td>\n",
       "    </tr>\n",
       "  </tbody>\n",
       "</table>\n",
       "</div>"
      ],
      "text/plain": [
       "   id keyword location                                               text  \\\n",
       "0   1     NaN      NaN  Our Deeds are the Reason of this #earthquake M...   \n",
       "1   4     NaN      NaN             Forest fire near La Ronge Sask. Canada   \n",
       "2   5     NaN      NaN  All residents asked to 'shelter in place' are ...   \n",
       "3   6     NaN      NaN  13,000 people receive #wildfires evacuation or...   \n",
       "4   7     NaN      NaN  Just got sent this photo from Ruby #Alaska as ...   \n",
       "\n",
       "   target  \n",
       "0       1  \n",
       "1       1  \n",
       "2       1  \n",
       "3       1  \n",
       "4       1  "
      ]
     },
     "execution_count": 7,
     "metadata": {},
     "output_type": "execute_result"
    }
   ],
   "source": [
    "train_df.head()"
   ]
  },
  {
   "cell_type": "markdown",
   "id": "44b0aa6b-992a-4a2a-b7dc-f7b270d1104e",
   "metadata": {},
   "source": [
    "ID has no special meaning, so we can easily drop ID from the dataset. Additionally, there are too many null values in keyword and location. Keyword is selected word from the text so it is redudant information. Although location might provide some special context, there are too many null values and does not contain too much meaning. Therefore, we really only need to consider the text bodies as our input column. "
   ]
  },
  {
   "cell_type": "markdown",
   "id": "20cb460b-c0fa-4017-ada8-ca58b24094a6",
   "metadata": {},
   "source": [
    "Now we will do some basic NLP preprocessing. *Here are some considerations*:\n",
    "1. Most NLP tasks favor removing stop words and porter stemming, but for complex context dependent tasks like identifying real disaster in a tweet, preservation of stop words and suffixes may be quintessential especially taking into account the fact that RNN's can discern sequential/temporal patterns.\n",
    "2. Because RNN learns sequential information, we have to use word tokens as opposed to vectors. We may also use a pretrained word embedding such as Word2Vec.\n",
    "3. URL's don't provide enough contextual clues and unnecessarily increase complexity. Thus, we can easily decide to remove URL's.\n",
    "4. For similar reason to removing URL's we can convert all texts to lowercase."
   ]
  },
  {
   "cell_type": "code",
   "execution_count": 8,
   "id": "7b97bf2e-134d-4c15-ae0c-978890dfe6cc",
   "metadata": {},
   "outputs": [],
   "source": [
    "import re\n",
    "\n",
    "def clean_text(text):\n",
    "    # remove url's (http, https, www)\n",
    "    text = re.sub(r'http\\S+|www\\S+|https\\S+', '', text, flags=re.MULTILINE)\n",
    "    # convert to lowercase\n",
    "    text = text.lower()\n",
    "    return text\n",
    "\n",
    "# try removing stopwords and suffixes as well\n",
    "from nltk.corpus import stopwords\n",
    "from nltk.stem import PorterStemmer\n",
    "\n",
    "stop_words = set(stopwords.words('english'))\n",
    "stemmer = PorterStemmer()\n",
    "\n",
    "def clean_text_V1(text):\n",
    "    text = re.sub(r'http\\S+|www\\S+|https\\S+', '', text, flags=re.MULTILINE)\n",
    "    text = text.lower()\n",
    "    \n",
    "    words = text.split()\n",
    "    words = [stemmer.stem(word) for word in words if word not in stop_words]\n",
    "    return ' '.join(words)\n",
    "    "
   ]
  },
  {
   "cell_type": "code",
   "execution_count": 9,
   "id": "fed09659-e34a-4088-9db2-d393d3af03e5",
   "metadata": {},
   "outputs": [],
   "source": [
    "train_df['text'] = train_df['text'].apply(clean_text)\n",
    "test_df['text'] = test_df['text'].apply(clean_text)"
   ]
  },
  {
   "cell_type": "code",
   "execution_count": 10,
   "id": "aca14000-7044-4220-a093-fec917db3f94",
   "metadata": {},
   "outputs": [
    {
     "data": {
      "text/html": [
       "<div>\n",
       "<style scoped>\n",
       "    .dataframe tbody tr th:only-of-type {\n",
       "        vertical-align: middle;\n",
       "    }\n",
       "\n",
       "    .dataframe tbody tr th {\n",
       "        vertical-align: top;\n",
       "    }\n",
       "\n",
       "    .dataframe thead th {\n",
       "        text-align: right;\n",
       "    }\n",
       "</style>\n",
       "<table border=\"1\" class=\"dataframe\">\n",
       "  <thead>\n",
       "    <tr style=\"text-align: right;\">\n",
       "      <th></th>\n",
       "      <th>id</th>\n",
       "      <th>keyword</th>\n",
       "      <th>location</th>\n",
       "      <th>text</th>\n",
       "      <th>target</th>\n",
       "    </tr>\n",
       "  </thead>\n",
       "  <tbody>\n",
       "    <tr>\n",
       "      <th>0</th>\n",
       "      <td>1</td>\n",
       "      <td>NaN</td>\n",
       "      <td>NaN</td>\n",
       "      <td>our deeds are the reason of this #earthquake m...</td>\n",
       "      <td>1</td>\n",
       "    </tr>\n",
       "    <tr>\n",
       "      <th>1</th>\n",
       "      <td>4</td>\n",
       "      <td>NaN</td>\n",
       "      <td>NaN</td>\n",
       "      <td>forest fire near la ronge sask. canada</td>\n",
       "      <td>1</td>\n",
       "    </tr>\n",
       "    <tr>\n",
       "      <th>2</th>\n",
       "      <td>5</td>\n",
       "      <td>NaN</td>\n",
       "      <td>NaN</td>\n",
       "      <td>all residents asked to 'shelter in place' are ...</td>\n",
       "      <td>1</td>\n",
       "    </tr>\n",
       "    <tr>\n",
       "      <th>3</th>\n",
       "      <td>6</td>\n",
       "      <td>NaN</td>\n",
       "      <td>NaN</td>\n",
       "      <td>13,000 people receive #wildfires evacuation or...</td>\n",
       "      <td>1</td>\n",
       "    </tr>\n",
       "    <tr>\n",
       "      <th>4</th>\n",
       "      <td>7</td>\n",
       "      <td>NaN</td>\n",
       "      <td>NaN</td>\n",
       "      <td>just got sent this photo from ruby #alaska as ...</td>\n",
       "      <td>1</td>\n",
       "    </tr>\n",
       "  </tbody>\n",
       "</table>\n",
       "</div>"
      ],
      "text/plain": [
       "   id keyword location                                               text  \\\n",
       "0   1     NaN      NaN  our deeds are the reason of this #earthquake m...   \n",
       "1   4     NaN      NaN             forest fire near la ronge sask. canada   \n",
       "2   5     NaN      NaN  all residents asked to 'shelter in place' are ...   \n",
       "3   6     NaN      NaN  13,000 people receive #wildfires evacuation or...   \n",
       "4   7     NaN      NaN  just got sent this photo from ruby #alaska as ...   \n",
       "\n",
       "   target  \n",
       "0       1  \n",
       "1       1  \n",
       "2       1  \n",
       "3       1  \n",
       "4       1  "
      ]
     },
     "execution_count": 10,
     "metadata": {},
     "output_type": "execute_result"
    }
   ],
   "source": [
    "train_df.head()"
   ]
  },
  {
   "cell_type": "markdown",
   "id": "a55e43da-a059-47a8-9a11-179998c8bb42",
   "metadata": {},
   "source": [
    "*Next we look at class distribution to make sure there isn't too much class imbalance*:"
   ]
  },
  {
   "cell_type": "code",
   "execution_count": 11,
   "id": "278879ab-b890-4bbc-a36f-019d098d750f",
   "metadata": {},
   "outputs": [
    {
     "data": {
      "image/png": "[encoded data removed]",
      "text/plain": [
       "<Figure size 1000x700 with 1 Axes>"
      ]
     },
     "metadata": {},
     "output_type": "display_data"
    }
   ],
   "source": [
    "def plot_class_distribution(labels):\n",
    "    class_counts = labels.value_counts()\n",
    "    \n",
    "    plt.figure(figsize=(10, 7))\n",
    "    class_counts.plot(kind='bar')\n",
    "    plt.title('Class Distribution')\n",
    "    plt.xlabel('Class')\n",
    "    plt.ylabel('Count')\n",
    "    plt.xticks(rotation=0)\n",
    "    plt.show()\n",
    "\n",
    "plot_class_distribution(train_df['target'])"
   ]
  },
  {
   "cell_type": "markdown",
   "id": "886ac486-7203-4206-aa8c-f9abb5d9c404",
   "metadata": {},
   "source": [
    "### Prepare Embedding Matrix (using word2vec)"
   ]
  },
  {
   "cell_type": "code",
   "execution_count": 12,
   "id": "58b8b2b0-a27f-427c-a8ac-c2edd7a2f07a",
   "metadata": {},
   "outputs": [],
   "source": [
    "word2vec = KeyedVectors.load_word2vec_format('./embeddings/GoogleNews-vectors-negative300.bin', binary=True)"
   ]
  },
  {
   "cell_type": "code",
   "execution_count": 13,
   "id": "57e51bc1-a852-409a-b585-a82d7b37dfa8",
   "metadata": {},
   "outputs": [],
   "source": [
    "# maximum number of words in a text\n",
    "max_sequence_length = 50  \n",
    "tokenizer = Tokenizer()\n",
    "tokenizer.fit_on_texts(train_df['text'])\n",
    "word_index = tokenizer.word_index\n",
    "\n",
    "sequences_train = tokenizer.texts_to_sequences(train_df['text'])\n",
    "padded_sequences_train = pad_sequences(sequences_train, maxlen=max_sequence_length, padding='post')"
   ]
  },
  {
   "cell_type": "code",
   "execution_count": 14,
   "id": "7772128b-59c9-4584-900b-e6d9b73b7947",
   "metadata": {},
   "outputs": [],
   "source": [
    "# test set for submission\n",
    "sequences_test = tokenizer.texts_to_sequences(test_df['text'])\n",
    "padded_sequences_test = pad_sequences(sequences_test, maxlen=max_sequence_length, padding='post')"
   ]
  },
  {
   "cell_type": "code",
   "execution_count": 15,
   "id": "026505bd-0594-41ca-8139-c53dbfe05797",
   "metadata": {},
   "outputs": [],
   "source": [
    "embedding_dim = 300\n",
    "vocab_size = len(word_index) + 1\n",
    "embedding_matrix = np.zeros((vocab_size, embedding_dim))\n",
    "\n",
    "for word, i in word_index.items():\n",
    "    if word in word2vec:\n",
    "        embedding_matrix[i] = word2vec[word]\n",
    "\n",
    "# embedding_matrix"
   ]
  },
  {
   "cell_type": "markdown",
   "id": "36261f30-923d-432f-90c7-c705dd908e04",
   "metadata": {},
   "source": [
    "### Train-Validation Splits"
   ]
  },
  {
   "cell_type": "code",
   "execution_count": 127,
   "id": "2f4c5da9-8725-49d1-b771-66e8f63f7129",
   "metadata": {},
   "outputs": [],
   "source": [
    "# train-test split\n",
    "X_train, X_test, y_train, y_test = train_test_split(padded_sequences_train, train_df['target'], test_size=0.2, random_state=0)"
   ]
  },
  {
   "cell_type": "markdown",
   "id": "fde66f6a-16df-434c-aa22-7edb8e21f504",
   "metadata": {},
   "source": [
    "### EDA Conclusion"
   ]
  },
  {
   "cell_type": "markdown",
   "id": "4dec5c7a-f66a-4a7d-a215-6ae060ccc7b1",
   "metadata": {},
   "source": [
    "## Model Building"
   ]
  },
  {
   "cell_type": "code",
   "execution_count": 81,
   "id": "e043da6f-6232-44a6-a6a1-36666524f1af",
   "metadata": {},
   "outputs": [],
   "source": [
    "def plot_accuracy(hist, name):\n",
    "    hist_train = hist.history['accuracy']\n",
    "    hist_val = hist.history['val_accuracy']\n",
    "\n",
    "    plt.figure(figsize=(11, 7))\n",
    "\n",
    "    plt.plot(range(len(hist_train)), hist_train, marker='o', label = 'accuracy, training')\n",
    "    plt.plot(range(len(hist_train)), hist_val, marker='o', label = 'accuracy, validation')\n",
    "    \n",
    "    plt.xticks(range(len(hist_train)), range(len(hist_train)), rotation=45)\n",
    "    \n",
    "    plt.legend() \n",
    "    \n",
    "    plt.xlabel(\"Epoch\")\n",
    "    plt.ylabel(\"Accuracy\")\n",
    "    plt.title(name)\n",
    "    plt.grid(True)\n",
    "    plt.show()"
   ]
  },
  {
   "cell_type": "markdown",
   "id": "3d9d6763-c119-4c74-869f-ef9c1c344a7e",
   "metadata": {},
   "source": [
    "### GRU without Hyperparameter Tuning"
   ]
  },
  {
   "cell_type": "code",
   "execution_count": 152,
   "id": "1656feeb-b233-40b2-8438-ab8807cea143",
   "metadata": {},
   "outputs": [
    {
     "name": "stdout",
     "output_type": "stream",
     "text": [
      "Model: \"sequential_54\"\n",
      "_________________________________________________________________\n",
      " Layer (type)                Output Shape              Param #   \n",
      "=================================================================\n",
      " embedding_55 (Embedding)    (None, 50, 300)           5428200   \n",
      "                                                                 \n",
      " gru_3 (GRU)                 (None, 32)                32064     \n",
      "                                                                 \n",
      " dense_173 (Dense)           (None, 128)               4224      \n",
      "                                                                 \n",
      " dense_174 (Dense)           (None, 1)                 129       \n",
      "                                                                 \n",
      "=================================================================\n",
      "Total params: 5464617 (20.85 MB)\n",
      "Trainable params: 36417 (142.25 KB)\n",
      "Non-trainable params: 5428200 (20.71 MB)\n",
      "_________________________________________________________________\n"
     ]
    }
   ],
   "source": [
    "# build GRU model\n",
    "model = Sequential([\n",
    "    Input(shape=(max_sequence_length,)),\n",
    "    Embedding(input_dim=vocab_size, output_dim=embedding_dim, \n",
    "              weights=[embedding_matrix], input_length=max_sequence_length, trainable=False),\n",
    "\n",
    "    GRU(32, return_sequences=False, trainable=True),\n",
    "    # Dropout(0.2),\n",
    "    Dense(128, activation='relu', trainable=True),\n",
    "    # Dropout(0.2),\n",
    "    Dense(1, activation='sigmoid', trainable=True)\n",
    "])\n",
    "\n",
    "model.build()\n",
    "\n",
    "loss = tf.keras.losses.BinaryCrossentropy(from_logits=True)\n",
    "optimizer = tf.keras.optimizers.Adam(learning_rate=0.001,epsilon=1e-08)\n",
    "\n",
    "# compile\n",
    "model.compile(optimizer=optimizer, loss=loss, metrics=['accuracy'])\n",
    "model.summary()"
   ]
  },
  {
   "cell_type": "code",
   "execution_count": 153,
   "id": "2c983f33-9d25-48b7-b0d4-01af00436eb3",
   "metadata": {},
   "outputs": [
    {
     "name": "stdout",
     "output_type": "stream",
     "text": [
      "Epoch 1/100\n",
      "191/191 [==============================] - 4s 15ms/step - loss: 0.6849 - accuracy: 0.5670 - val_loss: 0.6813 - val_accuracy: 0.5817\n",
      "Epoch 2/100\n",
      "191/191 [==============================] - 2s 13ms/step - loss: 0.6791 - accuracy: 0.5714 - val_loss: 0.6136 - val_accuracy: 0.6967\n",
      "Epoch 3/100\n",
      "191/191 [==============================] - 2s 13ms/step - loss: 0.5305 - accuracy: 0.7601 - val_loss: 0.4831 - val_accuracy: 0.7873\n",
      "Epoch 4/100\n",
      "191/191 [==============================] - 2s 12ms/step - loss: 0.4380 - accuracy: 0.8177 - val_loss: 0.4553 - val_accuracy: 0.8011\n",
      "Epoch 5/100\n",
      "191/191 [==============================] - 2s 13ms/step - loss: 0.4057 - accuracy: 0.8332 - val_loss: 0.4362 - val_accuracy: 0.8011\n",
      "Epoch 6/100\n",
      "191/191 [==============================] - 2s 13ms/step - loss: 0.3909 - accuracy: 0.8406 - val_loss: 0.4310 - val_accuracy: 0.8129\n",
      "Epoch 7/100\n",
      "191/191 [==============================] - 2s 12ms/step - loss: 0.3716 - accuracy: 0.8530 - val_loss: 0.4333 - val_accuracy: 0.8135\n",
      "Epoch 8/100\n",
      "191/191 [==============================] - 2s 13ms/step - loss: 0.3586 - accuracy: 0.8534 - val_loss: 0.4391 - val_accuracy: 0.8168\n",
      "Epoch 9/100\n",
      "191/191 [==============================] - 2s 13ms/step - loss: 0.3450 - accuracy: 0.8642 - val_loss: 0.4599 - val_accuracy: 0.8162\n",
      "Epoch 10/100\n",
      "191/191 [==============================] - 2s 13ms/step - loss: 0.3317 - accuracy: 0.8681 - val_loss: 0.4558 - val_accuracy: 0.8043\n",
      "Epoch 11/100\n",
      "191/191 [==============================] - 2s 13ms/step - loss: 0.3163 - accuracy: 0.8800 - val_loss: 0.4653 - val_accuracy: 0.8089\n"
     ]
    }
   ],
   "source": [
    "early_stopping = EarlyStopping(monitor='val_loss', patience=5, restore_best_weights=True)\n",
    "\n",
    "history = model.fit(X_train, y_train, \n",
    "                    validation_data=(X_test, y_test), \n",
    "                    epochs=100, \n",
    "                    batch_size=32, \n",
    "                    callbacks=[early_stopping], \n",
    "                    verbose=1)"
   ]
  },
  {
   "cell_type": "code",
   "execution_count": 154,
   "id": "e6a4508a-3161-44f2-bc55-a14ce9d4dbea",
   "metadata": {},
   "outputs": [
    {
     "data": {
      "image/png": "[encoded data removed]",
      "text/plain": [
       "<Figure size 1100x700 with 1 Axes>"
      ]
     },
     "metadata": {},
     "output_type": "display_data"
    }
   ],
   "source": [
    "plot_accuracy(history, \"GRU without hyperparameter tuning\")"
   ]
  },
  {
   "cell_type": "code",
   "execution_count": 155,
   "id": "2755dbcb-aaba-4d56-b87a-a2f83de49658",
   "metadata": {},
   "outputs": [
    {
     "name": "stdout",
     "output_type": "stream",
     "text": [
      "102/102 [==============================] - 1s 4ms/step\n"
     ]
    }
   ],
   "source": [
    "# save submission\n",
    "y_test_pred = model.predict(padded_sequences_test)"
   ]
  },
  {
   "cell_type": "code",
   "execution_count": 156,
   "id": "eae7ef04-138c-493d-bf61-f84d3a91b866",
   "metadata": {},
   "outputs": [
    {
     "data": {
      "text/html": [
       "<div>\n",
       "<style scoped>\n",
       "    .dataframe tbody tr th:only-of-type {\n",
       "        vertical-align: middle;\n",
       "    }\n",
       "\n",
       "    .dataframe tbody tr th {\n",
       "        vertical-align: top;\n",
       "    }\n",
       "\n",
       "    .dataframe thead th {\n",
       "        text-align: right;\n",
       "    }\n",
       "</style>\n",
       "<table border=\"1\" class=\"dataframe\">\n",
       "  <thead>\n",
       "    <tr style=\"text-align: right;\">\n",
       "      <th></th>\n",
       "      <th>id</th>\n",
       "      <th>target</th>\n",
       "    </tr>\n",
       "  </thead>\n",
       "  <tbody>\n",
       "    <tr>\n",
       "      <th>0</th>\n",
       "      <td>0</td>\n",
       "      <td>1</td>\n",
       "    </tr>\n",
       "    <tr>\n",
       "      <th>1</th>\n",
       "      <td>2</td>\n",
       "      <td>1</td>\n",
       "    </tr>\n",
       "    <tr>\n",
       "      <th>2</th>\n",
       "      <td>3</td>\n",
       "      <td>1</td>\n",
       "    </tr>\n",
       "    <tr>\n",
       "      <th>3</th>\n",
       "      <td>9</td>\n",
       "      <td>1</td>\n",
       "    </tr>\n",
       "    <tr>\n",
       "      <th>4</th>\n",
       "      <td>11</td>\n",
       "      <td>1</td>\n",
       "    </tr>\n",
       "    <tr>\n",
       "      <th>...</th>\n",
       "      <td>...</td>\n",
       "      <td>...</td>\n",
       "    </tr>\n",
       "    <tr>\n",
       "      <th>3258</th>\n",
       "      <td>10861</td>\n",
       "      <td>1</td>\n",
       "    </tr>\n",
       "    <tr>\n",
       "      <th>3259</th>\n",
       "      <td>10865</td>\n",
       "      <td>1</td>\n",
       "    </tr>\n",
       "    <tr>\n",
       "      <th>3260</th>\n",
       "      <td>10868</td>\n",
       "      <td>1</td>\n",
       "    </tr>\n",
       "    <tr>\n",
       "      <th>3261</th>\n",
       "      <td>10874</td>\n",
       "      <td>1</td>\n",
       "    </tr>\n",
       "    <tr>\n",
       "      <th>3262</th>\n",
       "      <td>10875</td>\n",
       "      <td>1</td>\n",
       "    </tr>\n",
       "  </tbody>\n",
       "</table>\n",
       "<p>3263 rows × 2 columns</p>\n",
       "</div>"
      ],
      "text/plain": [
       "         id  target\n",
       "0         0       1\n",
       "1         2       1\n",
       "2         3       1\n",
       "3         9       1\n",
       "4        11       1\n",
       "...     ...     ...\n",
       "3258  10861       1\n",
       "3259  10865       1\n",
       "3260  10868       1\n",
       "3261  10874       1\n",
       "3262  10875       1\n",
       "\n",
       "[3263 rows x 2 columns]"
      ]
     },
     "execution_count": 156,
     "metadata": {},
     "output_type": "execute_result"
    }
   ],
   "source": [
    "submission_df = pd.DataFrame()\n",
    "\n",
    "submission_df['id'] = test_df['id']\n",
    "submission_df['target'] = (y_test_pred > 0.5).astype(int)\n",
    "\n",
    "submission_df.to_csv(\"./submissions/GRU_no_tuning.csv\", index=False)\n",
    "submission_df"
   ]
  },
  {
   "cell_type": "markdown",
   "id": "b4594ca4-e965-4774-a890-c31450d2d187",
   "metadata": {},
   "source": [
    "### LSTM without Hyperparameter Tuning"
   ]
  },
  {
   "cell_type": "code",
   "execution_count": 157,
   "id": "58fcfcd3-c5d1-49df-883f-8dbb2bcda0ac",
   "metadata": {},
   "outputs": [
    {
     "name": "stdout",
     "output_type": "stream",
     "text": [
      "Model: \"sequential_55\"\n",
      "_________________________________________________________________\n",
      " Layer (type)                Output Shape              Param #   \n",
      "=================================================================\n",
      " embedding_56 (Embedding)    (None, 50, 300)           5428200   \n",
      "                                                                 \n",
      " lstm_57 (LSTM)              (None, 32)                42624     \n",
      "                                                                 \n",
      " dense_175 (Dense)           (None, 128)               4224      \n",
      "                                                                 \n",
      " dense_176 (Dense)           (None, 1)                 129       \n",
      "                                                                 \n",
      "=================================================================\n",
      "Total params: 5475177 (20.89 MB)\n",
      "Trainable params: 46977 (183.50 KB)\n",
      "Non-trainable params: 5428200 (20.71 MB)\n",
      "_________________________________________________________________\n"
     ]
    }
   ],
   "source": [
    "# build LSTM model\n",
    "model = Sequential([\n",
    "    Input(shape=(max_sequence_length,)),\n",
    "    Embedding(input_dim=vocab_size, output_dim=embedding_dim, \n",
    "              weights=[embedding_matrix], input_length=max_sequence_length, trainable=False),\n",
    "\n",
    "    LSTM(32, return_sequences=False, trainable=True),\n",
    "    # Dropout(0.2),\n",
    "    Dense(128, activation='relu', trainable=True),\n",
    "    # Dropout(0.2),\n",
    "    Dense(1, activation='sigmoid', trainable=True)\n",
    "])\n",
    "\n",
    "model.build()\n",
    "\n",
    "loss = tf.keras.losses.BinaryCrossentropy(from_logits=True)\n",
    "optimizer = tf.keras.optimizers.Adam(learning_rate=0.001,epsilon=1e-08)\n",
    "\n",
    "# compile\n",
    "model.compile(optimizer=optimizer, loss=loss, metrics=['accuracy'])\n",
    "model.summary()"
   ]
  },
  {
   "cell_type": "code",
   "execution_count": 158,
   "id": "72fb5fc0-2c1f-4124-82a4-079a42af4630",
   "metadata": {},
   "outputs": [
    {
     "name": "stdout",
     "output_type": "stream",
     "text": [
      "Epoch 1/100\n",
      "191/191 [==============================] - 4s 15ms/step - loss: 0.5715 - accuracy: 0.7140 - val_loss: 0.4864 - val_accuracy: 0.7807\n",
      "Epoch 2/100\n",
      "191/191 [==============================] - 3s 15ms/step - loss: 0.4483 - accuracy: 0.8090 - val_loss: 0.4547 - val_accuracy: 0.7866\n",
      "Epoch 3/100\n",
      "191/191 [==============================] - 3s 14ms/step - loss: 0.4192 - accuracy: 0.8238 - val_loss: 0.4416 - val_accuracy: 0.8043\n",
      "Epoch 4/100\n",
      "191/191 [==============================] - 2s 13ms/step - loss: 0.4022 - accuracy: 0.8327 - val_loss: 0.4330 - val_accuracy: 0.8076\n",
      "Epoch 5/100\n",
      "191/191 [==============================] - 2s 12ms/step - loss: 0.3958 - accuracy: 0.8361 - val_loss: 0.4431 - val_accuracy: 0.8030\n",
      "Epoch 6/100\n",
      "191/191 [==============================] - 3s 13ms/step - loss: 0.3833 - accuracy: 0.8425 - val_loss: 0.4263 - val_accuracy: 0.8102\n",
      "Epoch 7/100\n",
      "191/191 [==============================] - 2s 13ms/step - loss: 0.3670 - accuracy: 0.8519 - val_loss: 0.4394 - val_accuracy: 0.8070\n",
      "Epoch 8/100\n",
      "191/191 [==============================] - 2s 13ms/step - loss: 0.3575 - accuracy: 0.8527 - val_loss: 0.4519 - val_accuracy: 0.7951\n",
      "Epoch 9/100\n",
      "191/191 [==============================] - 2s 13ms/step - loss: 0.3463 - accuracy: 0.8596 - val_loss: 0.4808 - val_accuracy: 0.8050\n",
      "Epoch 10/100\n",
      "191/191 [==============================] - 2s 13ms/step - loss: 0.3402 - accuracy: 0.8634 - val_loss: 0.4472 - val_accuracy: 0.8135\n",
      "Epoch 11/100\n",
      "191/191 [==============================] - 2s 12ms/step - loss: 0.3313 - accuracy: 0.8660 - val_loss: 0.4421 - val_accuracy: 0.8109\n"
     ]
    }
   ],
   "source": [
    "early_stopping = EarlyStopping(monitor='val_loss', patience=5, restore_best_weights=True)\n",
    "\n",
    "history = model.fit(X_train, y_train, \n",
    "                    validation_data=(X_test, y_test), \n",
    "                    epochs=100, \n",
    "                    batch_size=32, \n",
    "                    callbacks=[early_stopping], \n",
    "                    verbose=1)"
   ]
  },
  {
   "cell_type": "code",
   "execution_count": 159,
   "id": "91968170-2770-40f8-aa23-2f5eced6a89c",
   "metadata": {},
   "outputs": [
    {
     "data": {
      "image/png": "[encoded data removed]",
      "text/plain": [
       "<Figure size 1100x700 with 1 Axes>"
      ]
     },
     "metadata": {},
     "output_type": "display_data"
    }
   ],
   "source": [
    "plot_accuracy(history, \"LSTM without hyperparameter tuning\")"
   ]
  },
  {
   "cell_type": "code",
   "execution_count": 160,
   "id": "fee2217c-3a68-4613-8e6b-cd14c42e564f",
   "metadata": {},
   "outputs": [
    {
     "name": "stdout",
     "output_type": "stream",
     "text": [
      "102/102 [==============================] - 1s 5ms/step\n"
     ]
    }
   ],
   "source": [
    "# save submission\n",
    "y_test_pred = model.predict(padded_sequences_test)"
   ]
  },
  {
   "cell_type": "code",
   "execution_count": 161,
   "id": "971d54b4-f554-48f6-b5ec-511e8af83fca",
   "metadata": {},
   "outputs": [
    {
     "data": {
      "text/html": [
       "<div>\n",
       "<style scoped>\n",
       "    .dataframe tbody tr th:only-of-type {\n",
       "        vertical-align: middle;\n",
       "    }\n",
       "\n",
       "    .dataframe tbody tr th {\n",
       "        vertical-align: top;\n",
       "    }\n",
       "\n",
       "    .dataframe thead th {\n",
       "        text-align: right;\n",
       "    }\n",
       "</style>\n",
       "<table border=\"1\" class=\"dataframe\">\n",
       "  <thead>\n",
       "    <tr style=\"text-align: right;\">\n",
       "      <th></th>\n",
       "      <th>id</th>\n",
       "      <th>target</th>\n",
       "    </tr>\n",
       "  </thead>\n",
       "  <tbody>\n",
       "    <tr>\n",
       "      <th>0</th>\n",
       "      <td>0</td>\n",
       "      <td>1</td>\n",
       "    </tr>\n",
       "    <tr>\n",
       "      <th>1</th>\n",
       "      <td>2</td>\n",
       "      <td>1</td>\n",
       "    </tr>\n",
       "    <tr>\n",
       "      <th>2</th>\n",
       "      <td>3</td>\n",
       "      <td>1</td>\n",
       "    </tr>\n",
       "    <tr>\n",
       "      <th>3</th>\n",
       "      <td>9</td>\n",
       "      <td>1</td>\n",
       "    </tr>\n",
       "    <tr>\n",
       "      <th>4</th>\n",
       "      <td>11</td>\n",
       "      <td>1</td>\n",
       "    </tr>\n",
       "    <tr>\n",
       "      <th>...</th>\n",
       "      <td>...</td>\n",
       "      <td>...</td>\n",
       "    </tr>\n",
       "    <tr>\n",
       "      <th>3258</th>\n",
       "      <td>10861</td>\n",
       "      <td>1</td>\n",
       "    </tr>\n",
       "    <tr>\n",
       "      <th>3259</th>\n",
       "      <td>10865</td>\n",
       "      <td>1</td>\n",
       "    </tr>\n",
       "    <tr>\n",
       "      <th>3260</th>\n",
       "      <td>10868</td>\n",
       "      <td>1</td>\n",
       "    </tr>\n",
       "    <tr>\n",
       "      <th>3261</th>\n",
       "      <td>10874</td>\n",
       "      <td>1</td>\n",
       "    </tr>\n",
       "    <tr>\n",
       "      <th>3262</th>\n",
       "      <td>10875</td>\n",
       "      <td>1</td>\n",
       "    </tr>\n",
       "  </tbody>\n",
       "</table>\n",
       "<p>3263 rows × 2 columns</p>\n",
       "</div>"
      ],
      "text/plain": [
       "         id  target\n",
       "0         0       1\n",
       "1         2       1\n",
       "2         3       1\n",
       "3         9       1\n",
       "4        11       1\n",
       "...     ...     ...\n",
       "3258  10861       1\n",
       "3259  10865       1\n",
       "3260  10868       1\n",
       "3261  10874       1\n",
       "3262  10875       1\n",
       "\n",
       "[3263 rows x 2 columns]"
      ]
     },
     "execution_count": 161,
     "metadata": {},
     "output_type": "execute_result"
    }
   ],
   "source": [
    "submission_df = pd.DataFrame()\n",
    "\n",
    "submission_df['id'] = test_df['id']\n",
    "submission_df['target'] = (y_test_pred > 0.5).astype(int)\n",
    "\n",
    "submission_df.to_csv(\"./submissions/LSTM_no_tuning.csv\", index=False)\n",
    "submission_df"
   ]
  },
  {
   "cell_type": "markdown",
   "id": "88c8b96c-f80f-42fe-992b-dbc4df9de7a5",
   "metadata": {},
   "source": [
    "### LSTM with Hyperparameter Tuning"
   ]
  },
  {
   "cell_type": "code",
   "execution_count": 188,
   "id": "b4dfa728-5d58-4cea-816a-90307512fb53",
   "metadata": {},
   "outputs": [
    {
     "name": "stdout",
     "output_type": "stream",
     "text": [
      "Model: \"sequential_63\"\n",
      "_________________________________________________________________\n",
      " Layer (type)                Output Shape              Param #   \n",
      "=================================================================\n",
      " embedding_64 (Embedding)    (None, 50, 300)           5428200   \n",
      "                                                                 \n",
      " lstm_65 (LSTM)              (None, 16)                20288     \n",
      "                                                                 \n",
      " dropout_210 (Dropout)       (None, 16)                0         \n",
      "                                                                 \n",
      " dense_193 (Dense)           (None, 128)               2176      \n",
      "                                                                 \n",
      " dropout_211 (Dropout)       (None, 128)               0         \n",
      "                                                                 \n",
      " dense_194 (Dense)           (None, 1)                 129       \n",
      "                                                                 \n",
      "=================================================================\n",
      "Total params: 5450793 (20.79 MB)\n",
      "Trainable params: 22593 (88.25 KB)\n",
      "Non-trainable params: 5428200 (20.71 MB)\n",
      "_________________________________________________________________\n"
     ]
    }
   ],
   "source": [
    "# build LSTM model\n",
    "model = Sequential([\n",
    "    Input(shape=(max_sequence_length,)),\n",
    "    Embedding(input_dim=vocab_size, output_dim=embedding_dim, \n",
    "              weights=[embedding_matrix], input_length=max_sequence_length, trainable=False),\n",
    "\n",
    "    LSTM(16, return_sequences=False, trainable=True),\n",
    "    Dropout(0.2),\n",
    "    Dense(128, activation='relu', trainable=True),\n",
    "    Dropout(0.2),\n",
    "    Dense(1, activation='sigmoid', trainable=True)\n",
    "])\n",
    "\n",
    "model.build()\n",
    "\n",
    "loss = tf.keras.losses.BinaryCrossentropy(from_logits=True)\n",
    "optimizer = tf.keras.optimizers.Adam(learning_rate=0.0001,epsilon=1e-08)\n",
    "\n",
    "# compile\n",
    "model.compile(optimizer=optimizer, loss=loss, metrics=['accuracy'])\n",
    "model.summary()"
   ]
  },
  {
   "cell_type": "code",
   "execution_count": 189,
   "id": "b4ece21d-a71b-4eb7-8eaa-8abdf11a4f01",
   "metadata": {},
   "outputs": [
    {
     "name": "stdout",
     "output_type": "stream",
     "text": [
      "Epoch 1/100\n",
      "191/191 [==============================] - 5s 16ms/step - loss: 0.6896 - accuracy: 0.5663 - val_loss: 0.6750 - val_accuracy: 0.5817\n",
      "Epoch 2/100\n",
      "191/191 [==============================] - 3s 14ms/step - loss: 0.5952 - accuracy: 0.7000 - val_loss: 0.5404 - val_accuracy: 0.7577\n",
      "Epoch 3/100\n",
      "191/191 [==============================] - 3s 13ms/step - loss: 0.5177 - accuracy: 0.7821 - val_loss: 0.4996 - val_accuracy: 0.7787\n",
      "Epoch 4/100\n",
      "191/191 [==============================] - 3s 14ms/step - loss: 0.4805 - accuracy: 0.7957 - val_loss: 0.4808 - val_accuracy: 0.7932\n",
      "Epoch 5/100\n",
      "191/191 [==============================] - 3s 15ms/step - loss: 0.4605 - accuracy: 0.8090 - val_loss: 0.4710 - val_accuracy: 0.7951\n",
      "Epoch 6/100\n",
      "191/191 [==============================] - 3s 14ms/step - loss: 0.4481 - accuracy: 0.8149 - val_loss: 0.4708 - val_accuracy: 0.7912\n",
      "Epoch 7/100\n",
      "191/191 [==============================] - 3s 15ms/step - loss: 0.4387 - accuracy: 0.8171 - val_loss: 0.4582 - val_accuracy: 0.8043\n",
      "Epoch 8/100\n",
      "191/191 [==============================] - 3s 14ms/step - loss: 0.4301 - accuracy: 0.8238 - val_loss: 0.4556 - val_accuracy: 0.7984\n",
      "Epoch 9/100\n",
      "191/191 [==============================] - 3s 14ms/step - loss: 0.4251 - accuracy: 0.8253 - val_loss: 0.4544 - val_accuracy: 0.8050\n",
      "Epoch 10/100\n",
      "191/191 [==============================] - 3s 14ms/step - loss: 0.4183 - accuracy: 0.8274 - val_loss: 0.4502 - val_accuracy: 0.8024\n",
      "Epoch 11/100\n",
      "191/191 [==============================] - 3s 14ms/step - loss: 0.4145 - accuracy: 0.8317 - val_loss: 0.4541 - val_accuracy: 0.7958\n",
      "Epoch 12/100\n",
      "191/191 [==============================] - 3s 15ms/step - loss: 0.4076 - accuracy: 0.8355 - val_loss: 0.4535 - val_accuracy: 0.7991\n",
      "Epoch 13/100\n",
      "191/191 [==============================] - 3s 14ms/step - loss: 0.4048 - accuracy: 0.8376 - val_loss: 0.4518 - val_accuracy: 0.8011\n",
      "Epoch 14/100\n",
      "191/191 [==============================] - 3s 15ms/step - loss: 0.4005 - accuracy: 0.8388 - val_loss: 0.4490 - val_accuracy: 0.8011\n",
      "Epoch 15/100\n",
      "191/191 [==============================] - 3s 14ms/step - loss: 0.3979 - accuracy: 0.8404 - val_loss: 0.4512 - val_accuracy: 0.8024\n",
      "Epoch 16/100\n",
      "191/191 [==============================] - 3s 14ms/step - loss: 0.3931 - accuracy: 0.8448 - val_loss: 0.4478 - val_accuracy: 0.8004\n",
      "Epoch 17/100\n",
      "191/191 [==============================] - 3s 14ms/step - loss: 0.3913 - accuracy: 0.8468 - val_loss: 0.4540 - val_accuracy: 0.8017\n",
      "Epoch 18/100\n",
      "191/191 [==============================] - 3s 14ms/step - loss: 0.3905 - accuracy: 0.8458 - val_loss: 0.4492 - val_accuracy: 0.8017\n",
      "Epoch 19/100\n",
      "191/191 [==============================] - 3s 14ms/step - loss: 0.3859 - accuracy: 0.8468 - val_loss: 0.4510 - val_accuracy: 0.8004\n",
      "Epoch 20/100\n",
      "191/191 [==============================] - 3s 14ms/step - loss: 0.3852 - accuracy: 0.8483 - val_loss: 0.4513 - val_accuracy: 0.7971\n",
      "Epoch 21/100\n",
      "191/191 [==============================] - 3s 13ms/step - loss: 0.3803 - accuracy: 0.8512 - val_loss: 0.4562 - val_accuracy: 0.7938\n"
     ]
    }
   ],
   "source": [
    "early_stopping = EarlyStopping(monitor='val_loss', patience=5, restore_best_weights=True)\n",
    "\n",
    "history = model.fit(X_train, y_train, \n",
    "                    validation_data=(X_test, y_test), \n",
    "                    epochs=100, \n",
    "                    batch_size=32, \n",
    "                    callbacks=[early_stopping], \n",
    "                    verbose=1)"
   ]
  },
  {
   "cell_type": "code",
   "execution_count": 190,
   "id": "8921fcee-6ee6-4396-8f26-3e7a31674eea",
   "metadata": {},
   "outputs": [
    {
     "data": {
      "image/png": "[encoded data removed]",
      "text/plain": [
       "<Figure size 1100x700 with 1 Axes>"
      ]
     },
     "metadata": {},
     "output_type": "display_data"
    }
   ],
   "source": [
    "plot_accuracy(history, \"LSTM with hyperparameter tuning\")"
   ]
  },
  {
   "cell_type": "code",
   "execution_count": 191,
   "id": "79929060-84d6-41cb-85df-10698bfc9034",
   "metadata": {},
   "outputs": [
    {
     "name": "stdout",
     "output_type": "stream",
     "text": [
      "102/102 [==============================] - 1s 5ms/step\n"
     ]
    }
   ],
   "source": [
    "# save submission\n",
    "y_test_pred = model.predict(padded_sequences_test)"
   ]
  },
  {
   "cell_type": "code",
   "execution_count": 192,
   "id": "3ec4bcdf-53a3-4ef4-9f63-1c91acdf12ac",
   "metadata": {},
   "outputs": [
    {
     "data": {
      "text/html": [
       "<div>\n",
       "<style scoped>\n",
       "    .dataframe tbody tr th:only-of-type {\n",
       "        vertical-align: middle;\n",
       "    }\n",
       "\n",
       "    .dataframe tbody tr th {\n",
       "        vertical-align: top;\n",
       "    }\n",
       "\n",
       "    .dataframe thead th {\n",
       "        text-align: right;\n",
       "    }\n",
       "</style>\n",
       "<table border=\"1\" class=\"dataframe\">\n",
       "  <thead>\n",
       "    <tr style=\"text-align: right;\">\n",
       "      <th></th>\n",
       "      <th>id</th>\n",
       "      <th>target</th>\n",
       "    </tr>\n",
       "  </thead>\n",
       "  <tbody>\n",
       "    <tr>\n",
       "      <th>0</th>\n",
       "      <td>0</td>\n",
       "      <td>1</td>\n",
       "    </tr>\n",
       "    <tr>\n",
       "      <th>1</th>\n",
       "      <td>2</td>\n",
       "      <td>1</td>\n",
       "    </tr>\n",
       "    <tr>\n",
       "      <th>2</th>\n",
       "      <td>3</td>\n",
       "      <td>1</td>\n",
       "    </tr>\n",
       "    <tr>\n",
       "      <th>3</th>\n",
       "      <td>9</td>\n",
       "      <td>1</td>\n",
       "    </tr>\n",
       "    <tr>\n",
       "      <th>4</th>\n",
       "      <td>11</td>\n",
       "      <td>1</td>\n",
       "    </tr>\n",
       "    <tr>\n",
       "      <th>...</th>\n",
       "      <td>...</td>\n",
       "      <td>...</td>\n",
       "    </tr>\n",
       "    <tr>\n",
       "      <th>3258</th>\n",
       "      <td>10861</td>\n",
       "      <td>1</td>\n",
       "    </tr>\n",
       "    <tr>\n",
       "      <th>3259</th>\n",
       "      <td>10865</td>\n",
       "      <td>1</td>\n",
       "    </tr>\n",
       "    <tr>\n",
       "      <th>3260</th>\n",
       "      <td>10868</td>\n",
       "      <td>1</td>\n",
       "    </tr>\n",
       "    <tr>\n",
       "      <th>3261</th>\n",
       "      <td>10874</td>\n",
       "      <td>0</td>\n",
       "    </tr>\n",
       "    <tr>\n",
       "      <th>3262</th>\n",
       "      <td>10875</td>\n",
       "      <td>0</td>\n",
       "    </tr>\n",
       "  </tbody>\n",
       "</table>\n",
       "<p>3263 rows × 2 columns</p>\n",
       "</div>"
      ],
      "text/plain": [
       "         id  target\n",
       "0         0       1\n",
       "1         2       1\n",
       "2         3       1\n",
       "3         9       1\n",
       "4        11       1\n",
       "...     ...     ...\n",
       "3258  10861       1\n",
       "3259  10865       1\n",
       "3260  10868       1\n",
       "3261  10874       0\n",
       "3262  10875       0\n",
       "\n",
       "[3263 rows x 2 columns]"
      ]
     },
     "execution_count": 192,
     "metadata": {},
     "output_type": "execute_result"
    }
   ],
   "source": [
    "submission_df = pd.DataFrame()\n",
    "\n",
    "submission_df['id'] = test_df['id']\n",
    "submission_df['target'] = (y_test_pred > 0.5).astype(int)\n",
    "\n",
    "submission_df.to_csv(\"./submissions/LSTM_with_tuning.csv\", index=False)\n",
    "submission_df"
   ]
  },
  {
   "cell_type": "markdown",
   "id": "cacbefe7-5c7d-4306-af78-35a798a3d8d1",
   "metadata": {},
   "source": [
    "### Fine-Tuning Pretrained BERT"
   ]
  },
  {
   "cell_type": "code",
   "execution_count": 77,
   "id": "a726b911-8a20-44bc-b095-084116df5675",
   "metadata": {},
   "outputs": [],
   "source": [
    "from transformers import BertTokenizer, TFBertForSequenceClassification"
   ]
  },
  {
   "cell_type": "code",
   "execution_count": 78,
   "id": "f6664d00-8206-4316-a054-7e79c4927c80",
   "metadata": {},
   "outputs": [],
   "source": [
    "train_texts, val_texts, train_labels, val_labels = train_test_split(\n",
    "    train_df['text'], \n",
    "    train_df['target'],\n",
    "    test_size=0.2,\n",
    "    random_state=0\n",
    ")"
   ]
  },
  {
   "cell_type": "code",
   "execution_count": 79,
   "id": "8344a7de-927b-4566-aa7e-cc3db9031941",
   "metadata": {},
   "outputs": [],
   "source": [
    "# load BERT tokenizer\n",
    "tokenizer = BertTokenizer.from_pretrained('bert-base-uncased')\n",
    "\n",
    "# tokenize the training and validation texts\n",
    "train_encodings = tokenizer(\n",
    "    list(train_texts),\n",
    "    max_length=50,\n",
    "    padding='max_length',\n",
    "    truncation=True,\n",
    "    return_tensors='tf' \n",
    ")\n",
    "\n",
    "val_encodings = tokenizer(\n",
    "    list(val_texts),\n",
    "    max_length=50,\n",
    "    padding='max_length',\n",
    "    truncation=True,\n",
    "    return_tensors='tf'\n",
    ")\n",
    "\n",
    "test_encodings = tokenizer(\n",
    "    list(test_df['text']),\n",
    "    max_length=50,\n",
    "    padding='max_length',\n",
    "    truncation=True,\n",
    "    return_tensors='tf' \n",
    ")"
   ]
  },
  {
   "cell_type": "code",
   "execution_count": 80,
   "id": "7a5af7dc-dfd3-4c32-9d1a-2ea144aaa515",
   "metadata": {},
   "outputs": [],
   "source": [
    "# convert labels to tensors\n",
    "train_labels = tf.convert_to_tensor(train_labels.tolist())\n",
    "val_labels = tf.convert_to_tensor(val_labels.tolist())\n",
    "\n",
    "# create TensorFlow datasets\n",
    "train_dataset = tf.data.Dataset.from_tensor_slices((\n",
    "    {'input_ids': train_encodings['input_ids'], 'attention_mask': train_encodings['attention_mask']},\n",
    "    train_labels\n",
    ")).batch(32)\n",
    "\n",
    "val_dataset = tf.data.Dataset.from_tensor_slices((\n",
    "    {'input_ids': val_encodings['input_ids'], 'attention_mask': val_encodings['attention_mask']},\n",
    "    val_labels\n",
    ")).batch(32)\n",
    "\n",
    "test_dataset = tf.data.Dataset.from_tensor_slices((\n",
    "    {'input_ids': test_encodings['input_ids'], 'attention_mask': test_encodings['attention_mask']}\n",
    ")).batch(32)"
   ]
  },
  {
   "cell_type": "code",
   "execution_count": 104,
   "id": "bd2d15f0-acd3-4538-9566-ab7d4b026772",
   "metadata": {},
   "outputs": [
    {
     "name": "stderr",
     "output_type": "stream",
     "text": [
      "All PyTorch model weights were used when initializing TFBertForSequenceClassification.\n",
      "\n",
      "Some weights or buffers of the TF 2.0 model TFBertForSequenceClassification were not initialized from the PyTorch model and are newly initialized: ['classifier.weight', 'classifier.bias']\n",
      "You should probably TRAIN this model on a down-stream task to be able to use it for predictions and inference.\n"
     ]
    },
    {
     "name": "stdout",
     "output_type": "stream",
     "text": [
      "Model: \"tf_bert_for_sequence_classification_8\"\n",
      "_________________________________________________________________\n",
      " Layer (type)                Output Shape              Param #   \n",
      "=================================================================\n",
      " bert (TFBertMainLayer)      multiple                  109482240 \n",
      "                                                                 \n",
      " dropout_311 (Dropout)       multiple                  0 (unused)\n",
      "                                                                 \n",
      " classifier (Dense)          multiple                  769       \n",
      "                                                                 \n",
      "=================================================================\n",
      "Total params: 109483009 (417.64 MB)\n",
      "Trainable params: 109483009 (417.64 MB)\n",
      "Non-trainable params: 0 (0.00 Byte)\n",
      "_________________________________________________________________\n"
     ]
    }
   ],
   "source": [
    "# load and compile BERT model\n",
    "model = TFBertForSequenceClassification.from_pretrained('bert-base-uncased', num_labels=1)\n",
    "\n",
    "# loss = tf.keras.losses.BinaryCrossentropy(from_logits=True)\n",
    "loss = tf.keras.losses.BinaryCrossentropy(from_logits=True)\n",
    "# metric = tf.keras.metrics.SparseCategoricalAccuracy('accuracy')\n",
    "optimizer = tf.keras.optimizers.Adam(learning_rate=2e-6,epsilon=1e-04)\n",
    "model.compile(optimizer=optimizer, loss=loss, metrics=['accuracy'])\n",
    "\n",
    "model.summary()"
   ]
  },
  {
   "cell_type": "code",
   "execution_count": 107,
   "id": "d1778f1f-e41b-4cf9-ad42-1970477f9cb4",
   "metadata": {},
   "outputs": [
    {
     "name": "stdout",
     "output_type": "stream",
     "text": [
      "Epoch 1/20\n",
      "191/191 [==============================] - 76s 230ms/step - loss: 0.6709 - accuracy: 0.5708 - val_loss: 0.6293 - val_accuracy: 0.6014\n",
      "Epoch 2/20\n",
      "191/191 [==============================] - 38s 197ms/step - loss: 0.5939 - accuracy: 0.6759 - val_loss: 0.5353 - val_accuracy: 0.7754\n",
      "Epoch 3/20\n",
      "191/191 [==============================] - 39s 204ms/step - loss: 0.5035 - accuracy: 0.7823 - val_loss: 0.4623 - val_accuracy: 0.8181\n",
      "Epoch 4/20\n",
      "191/191 [==============================] - 39s 203ms/step - loss: 0.4423 - accuracy: 0.8205 - val_loss: 0.4302 - val_accuracy: 0.8299\n",
      "Epoch 5/20\n",
      "191/191 [==============================] - 37s 196ms/step - loss: 0.4046 - accuracy: 0.8386 - val_loss: 0.4169 - val_accuracy: 0.8339\n",
      "Epoch 6/20\n",
      "191/191 [==============================] - 38s 198ms/step - loss: 0.3792 - accuracy: 0.8506 - val_loss: 0.4158 - val_accuracy: 0.8332\n",
      "Epoch 7/20\n",
      "191/191 [==============================] - 38s 199ms/step - loss: 0.3605 - accuracy: 0.8581 - val_loss: 0.4142 - val_accuracy: 0.8326\n",
      "Epoch 8/20\n",
      "191/191 [==============================] - 38s 200ms/step - loss: 0.3479 - accuracy: 0.8680 - val_loss: 0.4185 - val_accuracy: 0.8299\n",
      "Epoch 9/20\n",
      "191/191 [==============================] - 38s 198ms/step - loss: 0.3312 - accuracy: 0.8727 - val_loss: 0.4066 - val_accuracy: 0.8359\n",
      "Epoch 10/20\n",
      "191/191 [==============================] - 39s 203ms/step - loss: 0.3180 - accuracy: 0.8814 - val_loss: 0.4092 - val_accuracy: 0.8326\n",
      "Epoch 11/20\n",
      "191/191 [==============================] - 39s 206ms/step - loss: 0.2984 - accuracy: 0.8888 - val_loss: 0.4182 - val_accuracy: 0.8313\n",
      "Epoch 12/20\n",
      "191/191 [==============================] - 39s 204ms/step - loss: 0.2881 - accuracy: 0.8993 - val_loss: 0.4223 - val_accuracy: 0.8313\n",
      "Epoch 13/20\n",
      "191/191 [==============================] - 39s 205ms/step - loss: 0.2780 - accuracy: 0.9028 - val_loss: 0.4297 - val_accuracy: 0.8306\n",
      "Epoch 14/20\n",
      "191/191 [==============================] - 40s 207ms/step - loss: 0.2680 - accuracy: 0.9062 - val_loss: 0.4335 - val_accuracy: 0.8273\n"
     ]
    }
   ],
   "source": [
    "# train the model\n",
    "early_stopping = EarlyStopping(monitor='val_loss', patience=5, restore_best_weights=True)\n",
    "\n",
    "history = model.fit(\n",
    "    train_dataset,\n",
    "    validation_data=val_dataset,\n",
    "    epochs=20,\n",
    "    callbacks=[early_stopping]\n",
    ")"
   ]
  },
  {
   "cell_type": "code",
   "execution_count": 109,
   "id": "bf4d3d50-c0b2-4d5f-8116-3b4db0663791",
   "metadata": {},
   "outputs": [
    {
     "data": {
      "image/png": "[encoded data removed]",
      "text/plain": [
       "<Figure size 1100x700 with 1 Axes>"
      ]
     },
     "metadata": {},
     "output_type": "display_data"
    }
   ],
   "source": [
    "plot_accuracy(history, \"pre-trained BERT\")"
   ]
  },
  {
   "cell_type": "code",
   "execution_count": 102,
   "id": "9cb1f3ed-e726-4301-8f86-3af85124a6d4",
   "metadata": {},
   "outputs": [
    {
     "name": "stdout",
     "output_type": "stream",
     "text": [
      "102/102 [==============================] - 9s 85ms/step\n"
     ]
    }
   ],
   "source": [
    "predictions = model.predict(test_dataset)\n",
    "probabilities = tf.nn.sigmoid(predictions.logits)\n",
    "predicted_classes = tf.cast(probabilities > 0.5, dtype=tf.int32)"
   ]
  },
  {
   "cell_type": "code",
   "execution_count": 103,
   "id": "a9123542-0db0-4b94-b8ea-49b626f44cf7",
   "metadata": {},
   "outputs": [
    {
     "data": {
      "text/html": [
       "<div>\n",
       "<style scoped>\n",
       "    .dataframe tbody tr th:only-of-type {\n",
       "        vertical-align: middle;\n",
       "    }\n",
       "\n",
       "    .dataframe tbody tr th {\n",
       "        vertical-align: top;\n",
       "    }\n",
       "\n",
       "    .dataframe thead th {\n",
       "        text-align: right;\n",
       "    }\n",
       "</style>\n",
       "<table border=\"1\" class=\"dataframe\">\n",
       "  <thead>\n",
       "    <tr style=\"text-align: right;\">\n",
       "      <th></th>\n",
       "      <th>id</th>\n",
       "      <th>target</th>\n",
       "    </tr>\n",
       "  </thead>\n",
       "  <tbody>\n",
       "    <tr>\n",
       "      <th>0</th>\n",
       "      <td>0</td>\n",
       "      <td>1</td>\n",
       "    </tr>\n",
       "    <tr>\n",
       "      <th>1</th>\n",
       "      <td>2</td>\n",
       "      <td>1</td>\n",
       "    </tr>\n",
       "    <tr>\n",
       "      <th>2</th>\n",
       "      <td>3</td>\n",
       "      <td>1</td>\n",
       "    </tr>\n",
       "    <tr>\n",
       "      <th>3</th>\n",
       "      <td>9</td>\n",
       "      <td>1</td>\n",
       "    </tr>\n",
       "    <tr>\n",
       "      <th>4</th>\n",
       "      <td>11</td>\n",
       "      <td>1</td>\n",
       "    </tr>\n",
       "    <tr>\n",
       "      <th>...</th>\n",
       "      <td>...</td>\n",
       "      <td>...</td>\n",
       "    </tr>\n",
       "    <tr>\n",
       "      <th>3258</th>\n",
       "      <td>10861</td>\n",
       "      <td>0</td>\n",
       "    </tr>\n",
       "    <tr>\n",
       "      <th>3259</th>\n",
       "      <td>10865</td>\n",
       "      <td>1</td>\n",
       "    </tr>\n",
       "    <tr>\n",
       "      <th>3260</th>\n",
       "      <td>10868</td>\n",
       "      <td>1</td>\n",
       "    </tr>\n",
       "    <tr>\n",
       "      <th>3261</th>\n",
       "      <td>10874</td>\n",
       "      <td>1</td>\n",
       "    </tr>\n",
       "    <tr>\n",
       "      <th>3262</th>\n",
       "      <td>10875</td>\n",
       "      <td>1</td>\n",
       "    </tr>\n",
       "  </tbody>\n",
       "</table>\n",
       "<p>3263 rows × 2 columns</p>\n",
       "</div>"
      ],
      "text/plain": [
       "         id  target\n",
       "0         0       1\n",
       "1         2       1\n",
       "2         3       1\n",
       "3         9       1\n",
       "4        11       1\n",
       "...     ...     ...\n",
       "3258  10861       0\n",
       "3259  10865       1\n",
       "3260  10868       1\n",
       "3261  10874       1\n",
       "3262  10875       1\n",
       "\n",
       "[3263 rows x 2 columns]"
      ]
     },
     "execution_count": 103,
     "metadata": {},
     "output_type": "execute_result"
    }
   ],
   "source": [
    "submission_df = pd.DataFrame()\n",
    "\n",
    "submission_df['id'] = test_df['id']\n",
    "submission_df['target'] = np.array(predicted_classes)\n",
    "\n",
    "submission_df.to_csv(\"./submissions/BERT.csv\", index=False)\n",
    "submission_df"
   ]
  },
  {
   "cell_type": "code",
   "execution_count": null,
   "id": "44850f7f-ec47-4360-87b1-b191ee214770",
   "metadata": {},
   "outputs": [],
   "source": []
  }
 ],
 "metadata": {
  "kernelspec": {
   "display_name": "Python 3 (ipykernel)",
   "language": "python",
   "name": "python3"
  },
  "language_info": {
   "codemirror_mode": {
    "name": "ipython",
    "version": 3
   },
   "file_extension": ".py",
   "mimetype": "text/x-python",
   "name": "python",
   "nbconvert_exporter": "python",
   "pygments_lexer": "ipython3",
   "version": "3.10.12"
  }
 },
 "nbformat": 4,
 "nbformat_minor": 5
}
