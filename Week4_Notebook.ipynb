{
 "cells": [
  {
   "cell_type": "markdown",
   "id": "531a562b-53db-40f4-9f86-ea9c3322b02c",
   "metadata": {},
   "source": [
    "# Week 4 Mini Project: RNN Disaster Tweets Classification\n",
    "\n",
    "By: Jaeyoung Oh\n",
    "\n",
    "Repo: https://github.com/BlueJayVRStudio/CSCA5642_Week4"
   ]
  },
  {
   "cell_type": "markdown",
   "id": "0f81b4f0-7ddd-4e57-b781-317960e08ec3",
   "metadata": {},
   "source": [
    "## Problem Statement"
   ]
  },
  {
   "cell_type": "markdown",
   "id": "3517d23e-bc9e-455e-a8da-b694960a3483",
   "metadata": {},
   "source": [
    "## EDA"
   ]
  },
  {
   "cell_type": "code",
   "execution_count": null,
   "id": "1283bb00-d948-4f9c-9810-72f602ab8086",
   "metadata": {},
   "outputs": [],
   "source": []
  }
 ],
 "metadata": {
  "kernelspec": {
   "display_name": "Python 3 (ipykernel)",
   "language": "python",
   "name": "python3"
  },
  "language_info": {
   "codemirror_mode": {
    "name": "ipython",
    "version": 3
   },
   "file_extension": ".py",
   "mimetype": "text/x-python",
   "name": "python",
   "nbconvert_exporter": "python",
   "pygments_lexer": "ipython3",
   "version": "3.10.12"
  }
 },
 "nbformat": 4,
 "nbformat_minor": 5
}
